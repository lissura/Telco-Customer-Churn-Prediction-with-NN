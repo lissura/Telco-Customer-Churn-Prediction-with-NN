{
  "cells": [
    {
      "cell_type": "markdown",
      "metadata": {
        "id": "O57h7-ZfHp5Y"
      },
      "source": [
        "# Introduction\n",
        "1. Name : Cindra C \n",
        "2. Batch : 009\n",
        "\n",
        "Time passes and changed, as well as the behaviour of our customer. Customer will always seek for the better deals, better services, and avoiding bad experiences. It's all normal, but if we let them go then it might be dangerous for our company. In order to handle these problems, predicting Churn Risk is a way to keep our customer retention. Therefore this project is exist: to predict your churn-risk-customer.\n",
        "\n",
        "The dataset was collected from [Kaggle](https://www.kaggle.com/datasets/blastchar/telco-customer-churn/discussion). This is the case of Binary Classificaiton (Yes/No) with the use of ANN as models. Further EDA will explained in this notebook"
      ]
    },
    {
      "cell_type": "markdown",
      "metadata": {
        "id": "ytakbHjXK8kf"
      },
      "source": [
        "# Import Library"
      ]
    },
    {
      "cell_type": "code",
      "execution_count": 1,
      "metadata": {
        "id": "JM8LZ9CoHc8-"
      },
      "outputs": [],
      "source": [
        "import pandas as pd\n",
        "import numpy as np\n",
        "import matplotlib.pyplot as plt\n",
        "import seaborn as sns\n",
        "import tensorflow as tf\n",
        "\n",
        "\n",
        "from sklearn.model_selection import train_test_split\n",
        "from sklearn.preprocessing import StandardScaler, OneHotEncoder\n",
        "from sklearn.pipeline import Pipeline\n",
        "from sklearn.compose import ColumnTransformer\n",
        "from sklearn.metrics import classification_report\n",
        "from catboost import CatBoostClassifier, Pool\n",
        "\n",
        "from tensorflow.keras.models import Sequential, Model\n",
        "from keras.layers import Dense , Input , Dropout, BatchNormalization\n",
        "import pickle"
      ]
    },
    {
      "cell_type": "markdown",
      "metadata": {
        "id": "dJ13OcpcLPzR"
      },
      "source": [
        "# Data Load"
      ]
    },
    {
      "cell_type": "code",
      "execution_count": 2,
      "metadata": {
        "id": "yHD48UnzLQix"
      },
      "outputs": [],
      "source": [
        "df = pd.read_csv('data_churn.csv')\n",
        "pd. set_option('display.max_columns', None) #config to see all columns\n",
        "df.columns = df.columns.str.lower() #change all columns into lowercase"
      ]
    },
    {
      "cell_type": "code",
      "execution_count": 3,
      "metadata": {},
      "outputs": [],
      "source": [
        "# df.to_csv('deployment\\\\frontend\\\\dataset.csv') #needed to use this for frontend purpose"
      ]
    },
    {
      "cell_type": "code",
      "execution_count": 4,
      "metadata": {
        "colab": {
          "base_uri": "https://localhost:8080/",
          "height": 661
        },
        "id": "uWTkhIvDLZBf",
        "outputId": "bc67adda-fcd0-4734-c2d2-99f1aa5bb6a6"
      },
      "outputs": [
        {
          "data": {
            "text/html": [
              "<div>\n",
              "<style scoped>\n",
              "    .dataframe tbody tr th:only-of-type {\n",
              "        vertical-align: middle;\n",
              "    }\n",
              "\n",
              "    .dataframe tbody tr th {\n",
              "        vertical-align: top;\n",
              "    }\n",
              "\n",
              "    .dataframe thead th {\n",
              "        text-align: right;\n",
              "    }\n",
              "</style>\n",
              "<table border=\"1\" class=\"dataframe\">\n",
              "  <thead>\n",
              "    <tr style=\"text-align: right;\">\n",
              "      <th></th>\n",
              "      <th>customerid</th>\n",
              "      <th>gender</th>\n",
              "      <th>seniorcitizen</th>\n",
              "      <th>partner</th>\n",
              "      <th>dependents</th>\n",
              "      <th>tenure</th>\n",
              "      <th>phoneservice</th>\n",
              "      <th>multiplelines</th>\n",
              "      <th>internetservice</th>\n",
              "      <th>onlinesecurity</th>\n",
              "      <th>onlinebackup</th>\n",
              "      <th>deviceprotection</th>\n",
              "      <th>techsupport</th>\n",
              "      <th>streamingtv</th>\n",
              "      <th>streamingmovies</th>\n",
              "      <th>contract</th>\n",
              "      <th>paperlessbilling</th>\n",
              "      <th>paymentmethod</th>\n",
              "      <th>monthlycharges</th>\n",
              "      <th>totalcharges</th>\n",
              "      <th>churn</th>\n",
              "    </tr>\n",
              "  </thead>\n",
              "  <tbody>\n",
              "    <tr>\n",
              "      <th>0</th>\n",
              "      <td>7590-VHVEG</td>\n",
              "      <td>Female</td>\n",
              "      <td>0</td>\n",
              "      <td>Yes</td>\n",
              "      <td>No</td>\n",
              "      <td>1</td>\n",
              "      <td>No</td>\n",
              "      <td>No phone service</td>\n",
              "      <td>DSL</td>\n",
              "      <td>No</td>\n",
              "      <td>Yes</td>\n",
              "      <td>No</td>\n",
              "      <td>No</td>\n",
              "      <td>No</td>\n",
              "      <td>No</td>\n",
              "      <td>Month-to-month</td>\n",
              "      <td>Yes</td>\n",
              "      <td>Electronic check</td>\n",
              "      <td>29.85</td>\n",
              "      <td>29.85</td>\n",
              "      <td>No</td>\n",
              "    </tr>\n",
              "    <tr>\n",
              "      <th>1</th>\n",
              "      <td>5575-GNVDE</td>\n",
              "      <td>Male</td>\n",
              "      <td>0</td>\n",
              "      <td>No</td>\n",
              "      <td>No</td>\n",
              "      <td>34</td>\n",
              "      <td>Yes</td>\n",
              "      <td>No</td>\n",
              "      <td>DSL</td>\n",
              "      <td>Yes</td>\n",
              "      <td>No</td>\n",
              "      <td>Yes</td>\n",
              "      <td>No</td>\n",
              "      <td>No</td>\n",
              "      <td>No</td>\n",
              "      <td>One year</td>\n",
              "      <td>No</td>\n",
              "      <td>Mailed check</td>\n",
              "      <td>56.95</td>\n",
              "      <td>1889.5</td>\n",
              "      <td>No</td>\n",
              "    </tr>\n",
              "    <tr>\n",
              "      <th>2</th>\n",
              "      <td>3668-QPYBK</td>\n",
              "      <td>Male</td>\n",
              "      <td>0</td>\n",
              "      <td>No</td>\n",
              "      <td>No</td>\n",
              "      <td>2</td>\n",
              "      <td>Yes</td>\n",
              "      <td>No</td>\n",
              "      <td>DSL</td>\n",
              "      <td>Yes</td>\n",
              "      <td>Yes</td>\n",
              "      <td>No</td>\n",
              "      <td>No</td>\n",
              "      <td>No</td>\n",
              "      <td>No</td>\n",
              "      <td>Month-to-month</td>\n",
              "      <td>Yes</td>\n",
              "      <td>Mailed check</td>\n",
              "      <td>53.85</td>\n",
              "      <td>108.15</td>\n",
              "      <td>Yes</td>\n",
              "    </tr>\n",
              "    <tr>\n",
              "      <th>3</th>\n",
              "      <td>7795-CFOCW</td>\n",
              "      <td>Male</td>\n",
              "      <td>0</td>\n",
              "      <td>No</td>\n",
              "      <td>No</td>\n",
              "      <td>45</td>\n",
              "      <td>No</td>\n",
              "      <td>No phone service</td>\n",
              "      <td>DSL</td>\n",
              "      <td>Yes</td>\n",
              "      <td>No</td>\n",
              "      <td>Yes</td>\n",
              "      <td>Yes</td>\n",
              "      <td>No</td>\n",
              "      <td>No</td>\n",
              "      <td>One year</td>\n",
              "      <td>No</td>\n",
              "      <td>Bank transfer (automatic)</td>\n",
              "      <td>42.30</td>\n",
              "      <td>1840.75</td>\n",
              "      <td>No</td>\n",
              "    </tr>\n",
              "    <tr>\n",
              "      <th>4</th>\n",
              "      <td>9237-HQITU</td>\n",
              "      <td>Female</td>\n",
              "      <td>0</td>\n",
              "      <td>No</td>\n",
              "      <td>No</td>\n",
              "      <td>2</td>\n",
              "      <td>Yes</td>\n",
              "      <td>No</td>\n",
              "      <td>Fiber optic</td>\n",
              "      <td>No</td>\n",
              "      <td>No</td>\n",
              "      <td>No</td>\n",
              "      <td>No</td>\n",
              "      <td>No</td>\n",
              "      <td>No</td>\n",
              "      <td>Month-to-month</td>\n",
              "      <td>Yes</td>\n",
              "      <td>Electronic check</td>\n",
              "      <td>70.70</td>\n",
              "      <td>151.65</td>\n",
              "      <td>Yes</td>\n",
              "    </tr>\n",
              "    <tr>\n",
              "      <th>...</th>\n",
              "      <td>...</td>\n",
              "      <td>...</td>\n",
              "      <td>...</td>\n",
              "      <td>...</td>\n",
              "      <td>...</td>\n",
              "      <td>...</td>\n",
              "      <td>...</td>\n",
              "      <td>...</td>\n",
              "      <td>...</td>\n",
              "      <td>...</td>\n",
              "      <td>...</td>\n",
              "      <td>...</td>\n",
              "      <td>...</td>\n",
              "      <td>...</td>\n",
              "      <td>...</td>\n",
              "      <td>...</td>\n",
              "      <td>...</td>\n",
              "      <td>...</td>\n",
              "      <td>...</td>\n",
              "      <td>...</td>\n",
              "      <td>...</td>\n",
              "    </tr>\n",
              "    <tr>\n",
              "      <th>7038</th>\n",
              "      <td>6840-RESVB</td>\n",
              "      <td>Male</td>\n",
              "      <td>0</td>\n",
              "      <td>Yes</td>\n",
              "      <td>Yes</td>\n",
              "      <td>24</td>\n",
              "      <td>Yes</td>\n",
              "      <td>Yes</td>\n",
              "      <td>DSL</td>\n",
              "      <td>Yes</td>\n",
              "      <td>No</td>\n",
              "      <td>Yes</td>\n",
              "      <td>Yes</td>\n",
              "      <td>Yes</td>\n",
              "      <td>Yes</td>\n",
              "      <td>One year</td>\n",
              "      <td>Yes</td>\n",
              "      <td>Mailed check</td>\n",
              "      <td>84.80</td>\n",
              "      <td>1990.5</td>\n",
              "      <td>No</td>\n",
              "    </tr>\n",
              "    <tr>\n",
              "      <th>7039</th>\n",
              "      <td>2234-XADUH</td>\n",
              "      <td>Female</td>\n",
              "      <td>0</td>\n",
              "      <td>Yes</td>\n",
              "      <td>Yes</td>\n",
              "      <td>72</td>\n",
              "      <td>Yes</td>\n",
              "      <td>Yes</td>\n",
              "      <td>Fiber optic</td>\n",
              "      <td>No</td>\n",
              "      <td>Yes</td>\n",
              "      <td>Yes</td>\n",
              "      <td>No</td>\n",
              "      <td>Yes</td>\n",
              "      <td>Yes</td>\n",
              "      <td>One year</td>\n",
              "      <td>Yes</td>\n",
              "      <td>Credit card (automatic)</td>\n",
              "      <td>103.20</td>\n",
              "      <td>7362.9</td>\n",
              "      <td>No</td>\n",
              "    </tr>\n",
              "    <tr>\n",
              "      <th>7040</th>\n",
              "      <td>4801-JZAZL</td>\n",
              "      <td>Female</td>\n",
              "      <td>0</td>\n",
              "      <td>Yes</td>\n",
              "      <td>Yes</td>\n",
              "      <td>11</td>\n",
              "      <td>No</td>\n",
              "      <td>No phone service</td>\n",
              "      <td>DSL</td>\n",
              "      <td>Yes</td>\n",
              "      <td>No</td>\n",
              "      <td>No</td>\n",
              "      <td>No</td>\n",
              "      <td>No</td>\n",
              "      <td>No</td>\n",
              "      <td>Month-to-month</td>\n",
              "      <td>Yes</td>\n",
              "      <td>Electronic check</td>\n",
              "      <td>29.60</td>\n",
              "      <td>346.45</td>\n",
              "      <td>No</td>\n",
              "    </tr>\n",
              "    <tr>\n",
              "      <th>7041</th>\n",
              "      <td>8361-LTMKD</td>\n",
              "      <td>Male</td>\n",
              "      <td>1</td>\n",
              "      <td>Yes</td>\n",
              "      <td>No</td>\n",
              "      <td>4</td>\n",
              "      <td>Yes</td>\n",
              "      <td>Yes</td>\n",
              "      <td>Fiber optic</td>\n",
              "      <td>No</td>\n",
              "      <td>No</td>\n",
              "      <td>No</td>\n",
              "      <td>No</td>\n",
              "      <td>No</td>\n",
              "      <td>No</td>\n",
              "      <td>Month-to-month</td>\n",
              "      <td>Yes</td>\n",
              "      <td>Mailed check</td>\n",
              "      <td>74.40</td>\n",
              "      <td>306.6</td>\n",
              "      <td>Yes</td>\n",
              "    </tr>\n",
              "    <tr>\n",
              "      <th>7042</th>\n",
              "      <td>3186-AJIEK</td>\n",
              "      <td>Male</td>\n",
              "      <td>0</td>\n",
              "      <td>No</td>\n",
              "      <td>No</td>\n",
              "      <td>66</td>\n",
              "      <td>Yes</td>\n",
              "      <td>No</td>\n",
              "      <td>Fiber optic</td>\n",
              "      <td>Yes</td>\n",
              "      <td>No</td>\n",
              "      <td>Yes</td>\n",
              "      <td>Yes</td>\n",
              "      <td>Yes</td>\n",
              "      <td>Yes</td>\n",
              "      <td>Two year</td>\n",
              "      <td>Yes</td>\n",
              "      <td>Bank transfer (automatic)</td>\n",
              "      <td>105.65</td>\n",
              "      <td>6844.5</td>\n",
              "      <td>No</td>\n",
              "    </tr>\n",
              "  </tbody>\n",
              "</table>\n",
              "<p>7043 rows × 21 columns</p>\n",
              "</div>"
            ],
            "text/plain": [
              "      customerid  gender  seniorcitizen partner dependents  tenure  \\\n",
              "0     7590-VHVEG  Female              0     Yes         No       1   \n",
              "1     5575-GNVDE    Male              0      No         No      34   \n",
              "2     3668-QPYBK    Male              0      No         No       2   \n",
              "3     7795-CFOCW    Male              0      No         No      45   \n",
              "4     9237-HQITU  Female              0      No         No       2   \n",
              "...          ...     ...            ...     ...        ...     ...   \n",
              "7038  6840-RESVB    Male              0     Yes        Yes      24   \n",
              "7039  2234-XADUH  Female              0     Yes        Yes      72   \n",
              "7040  4801-JZAZL  Female              0     Yes        Yes      11   \n",
              "7041  8361-LTMKD    Male              1     Yes         No       4   \n",
              "7042  3186-AJIEK    Male              0      No         No      66   \n",
              "\n",
              "     phoneservice     multiplelines internetservice onlinesecurity  \\\n",
              "0              No  No phone service             DSL             No   \n",
              "1             Yes                No             DSL            Yes   \n",
              "2             Yes                No             DSL            Yes   \n",
              "3              No  No phone service             DSL            Yes   \n",
              "4             Yes                No     Fiber optic             No   \n",
              "...           ...               ...             ...            ...   \n",
              "7038          Yes               Yes             DSL            Yes   \n",
              "7039          Yes               Yes     Fiber optic             No   \n",
              "7040           No  No phone service             DSL            Yes   \n",
              "7041          Yes               Yes     Fiber optic             No   \n",
              "7042          Yes                No     Fiber optic            Yes   \n",
              "\n",
              "     onlinebackup deviceprotection techsupport streamingtv streamingmovies  \\\n",
              "0             Yes               No          No          No              No   \n",
              "1              No              Yes          No          No              No   \n",
              "2             Yes               No          No          No              No   \n",
              "3              No              Yes         Yes          No              No   \n",
              "4              No               No          No          No              No   \n",
              "...           ...              ...         ...         ...             ...   \n",
              "7038           No              Yes         Yes         Yes             Yes   \n",
              "7039          Yes              Yes          No         Yes             Yes   \n",
              "7040           No               No          No          No              No   \n",
              "7041           No               No          No          No              No   \n",
              "7042           No              Yes         Yes         Yes             Yes   \n",
              "\n",
              "            contract paperlessbilling              paymentmethod  \\\n",
              "0     Month-to-month              Yes           Electronic check   \n",
              "1           One year               No               Mailed check   \n",
              "2     Month-to-month              Yes               Mailed check   \n",
              "3           One year               No  Bank transfer (automatic)   \n",
              "4     Month-to-month              Yes           Electronic check   \n",
              "...              ...              ...                        ...   \n",
              "7038        One year              Yes               Mailed check   \n",
              "7039        One year              Yes    Credit card (automatic)   \n",
              "7040  Month-to-month              Yes           Electronic check   \n",
              "7041  Month-to-month              Yes               Mailed check   \n",
              "7042        Two year              Yes  Bank transfer (automatic)   \n",
              "\n",
              "      monthlycharges totalcharges churn  \n",
              "0              29.85        29.85    No  \n",
              "1              56.95       1889.5    No  \n",
              "2              53.85       108.15   Yes  \n",
              "3              42.30      1840.75    No  \n",
              "4              70.70       151.65   Yes  \n",
              "...              ...          ...   ...  \n",
              "7038           84.80       1990.5    No  \n",
              "7039          103.20       7362.9    No  \n",
              "7040           29.60       346.45    No  \n",
              "7041           74.40        306.6   Yes  \n",
              "7042          105.65       6844.5    No  \n",
              "\n",
              "[7043 rows x 21 columns]"
            ]
          },
          "execution_count": 4,
          "metadata": {},
          "output_type": "execute_result"
        }
      ],
      "source": [
        "df #looking at the data"
      ]
    },
    {
      "cell_type": "markdown",
      "metadata": {
        "id": "gSlxjUmlMCN5"
      },
      "source": [
        "About The Data\n",
        "\n",
        "\n",
        "| Feature          | Description                                                                                                        |\n",
        "| ---------------- | ------------------------------------------------------------------------------------------------------------------ |\n",
        "| customerID       | Customer ID                                                                                                        |\n",
        "| gender           | Whether the customer is a male or a female                                                                         |\n",
        "| SeniorCitizen    | Whether the customer is a senior citizen or not (1, 0)                                                             |\n",
        "| Partner          | Whether the customer has a partner or not (Yes, No)                                                                |\n",
        "| Dependents       | Whether the customer has dependents or not (Yes, No)                                                               |\n",
        "| tenure           | Number of months the customer has stayed with the company                                                          |\n",
        "| PhoneService     | Whether the customer has a phone service or not (Yes, No)                                                          |\n",
        "| MultipleLines    | Whether the customer has multiple lines or not (Yes, No, No phone service)                                         |\n",
        "| InternetService  | Customer’s internet service provider (DSL, Fiber optic, No)                                                        |\n",
        "| OnlineSecurity   | Whether the customer has online security or not (Yes, No, No internet service)                                     |\n",
        "| OnlineBackup     | Whether the customer has online backup or not (Yes, No, No internet service)                                       |\n",
        "| DeviceProtection | Whether the customer has device protection or not (Yes, No, No internet service)                                   |\n",
        "| TechSupport      | Whether the customer has tech support or not (Yes, No, No internet service)                                        |\n",
        "| StreamingTV      | Whether the customer has streaming TV or not (Yes, No, No internet service)                                        |\n",
        "| StreamingMovies  | Whether the customer has streaming movies or not (Yes, No, No internet service)                                    |\n",
        "| Contract         | The contract term of the customer (Month-to-month, One year, Two year)                                             |\n",
        "| PaperlessBilling | Whether the customer has paperless billing or not (Yes, No)                                                        |\n",
        "| PaymentMethod    | The customer’s payment method (Electronic check, Mailed check, Bank transfer (automatic), Credit card (automatic)) |\n",
        "| MonthlyCharges   | The amount charged to the customer monthly                                                                         |\n",
        "| TotalCharges     | The total amount charged to the customer                                                                           |\n",
        "| Churn            | Whether the customer churned or not (Yes or No)                                                                    |\n",
        "\n"
      ]
    },
    {
      "cell_type": "markdown",
      "metadata": {
        "id": "Rdiyn7gdkt3v"
      },
      "source": [
        "I can divide these data into two big part.\n",
        "1. The customer's profile : Gender, Senior Citizen, Partner, Dependents, Tenure, Contract, PaymentMethod, and Paperless Billing\n",
        "2. The services they use : InternetServices, OnlineSecurity, OnlineBackup, DeviceProtection, TechSupport, StreamintTV, StreamingMovies\n"
      ]
    },
    {
      "cell_type": "markdown",
      "metadata": {
        "id": "VHjQ8evcM-nb"
      },
      "source": [
        "# EDA"
      ]
    },
    {
      "cell_type": "code",
      "execution_count": 5,
      "metadata": {
        "colab": {
          "base_uri": "https://localhost:8080/"
        },
        "id": "mzZWd6HjM_Gc",
        "outputId": "9910fb62-ce8d-4046-b702-d401522652a0"
      },
      "outputs": [
        {
          "name": "stdout",
          "output_type": "stream",
          "text": [
            "<class 'pandas.core.frame.DataFrame'>\n",
            "RangeIndex: 7043 entries, 0 to 7042\n",
            "Data columns (total 21 columns):\n",
            " #   Column            Non-Null Count  Dtype  \n",
            "---  ------            --------------  -----  \n",
            " 0   customerid        7043 non-null   object \n",
            " 1   gender            7043 non-null   object \n",
            " 2   seniorcitizen     7043 non-null   int64  \n",
            " 3   partner           7043 non-null   object \n",
            " 4   dependents        7043 non-null   object \n",
            " 5   tenure            7043 non-null   int64  \n",
            " 6   phoneservice      7043 non-null   object \n",
            " 7   multiplelines     7043 non-null   object \n",
            " 8   internetservice   7043 non-null   object \n",
            " 9   onlinesecurity    7043 non-null   object \n",
            " 10  onlinebackup      7043 non-null   object \n",
            " 11  deviceprotection  7043 non-null   object \n",
            " 12  techsupport       7043 non-null   object \n",
            " 13  streamingtv       7043 non-null   object \n",
            " 14  streamingmovies   7043 non-null   object \n",
            " 15  contract          7043 non-null   object \n",
            " 16  paperlessbilling  7043 non-null   object \n",
            " 17  paymentmethod     7043 non-null   object \n",
            " 18  monthlycharges    7043 non-null   float64\n",
            " 19  totalcharges      7043 non-null   object \n",
            " 20  churn             7043 non-null   object \n",
            "dtypes: float64(1), int64(2), object(18)\n",
            "memory usage: 1.1+ MB\n"
          ]
        }
      ],
      "source": [
        "df.info() #see data's information"
      ]
    },
    {
      "cell_type": "markdown",
      "metadata": {
        "id": "W04E1VYvNEmy"
      },
      "source": [
        "> This datasets have 7043 Entries with 21 columns. Mostly are `object` type but some of them can be changed into `int` (totalcharges).  I think there's no missing value here, but this will be checked further.\n",
        "\n",
        "> I don't think customer id column will be much useful for analysis and model, but this one is useful to check any duplicate  "
      ]
    },
    {
      "cell_type": "code",
      "execution_count": 6,
      "metadata": {
        "colab": {
          "base_uri": "https://localhost:8080/"
        },
        "id": "miISVliZYzvZ",
        "outputId": "8738d2bc-dd5e-4993-e299-7d5ba5dbc74e"
      },
      "outputs": [
        {
          "data": {
            "text/plain": [
              "0"
            ]
          },
          "execution_count": 6,
          "metadata": {},
          "output_type": "execute_result"
        }
      ],
      "source": [
        "df.duplicated().sum() #check duplicate"
      ]
    },
    {
      "cell_type": "markdown",
      "metadata": {
        "id": "xAtDFqR2Y2Jx"
      },
      "source": [
        "> There is no duplicate data, this column now can be drop since tt has too high cardinality and have the same function as Index"
      ]
    },
    {
      "cell_type": "code",
      "execution_count": 7,
      "metadata": {
        "colab": {
          "base_uri": "https://localhost:8080/"
        },
        "id": "lVZHawz3Y6to",
        "outputId": "c3bbb72b-f13c-4276-97c3-2e079c0ce0bb"
      },
      "outputs": [],
      "source": [
        "df.drop('customerid', axis=1, inplace=True) #dropcustomerid column"
      ]
    },
    {
      "cell_type": "code",
      "execution_count": 8,
      "metadata": {
        "colab": {
          "base_uri": "https://localhost:8080/"
        },
        "id": "Z7qm5s51Vqh2",
        "outputId": "30d90b35-7a80-4eac-87d0-6bed3f62f631"
      },
      "outputs": [
        {
          "data": {
            "text/plain": [
              "          11\n",
              "20.2      11\n",
              "19.75      9\n",
              "20.05      8\n",
              "19.9       8\n",
              "          ..\n",
              "6849.4     1\n",
              "692.35     1\n",
              "130.15     1\n",
              "3211.9     1\n",
              "6844.5     1\n",
              "Name: totalcharges, Length: 6531, dtype: int64"
            ]
          },
          "execution_count": 8,
          "metadata": {},
          "output_type": "execute_result"
        }
      ],
      "source": [
        "df.totalcharges.value_counts() #checking unqiue value in totalcharges colulmns because i cant change its type"
      ]
    },
    {
      "cell_type": "markdown",
      "metadata": {
        "id": "7asHyha9WjqA"
      },
      "source": [
        "> There are 11 empty string. This should be a missing value."
      ]
    },
    {
      "cell_type": "code",
      "execution_count": 9,
      "metadata": {
        "id": "DkAkQScKWsUJ"
      },
      "outputs": [
        {
          "name": "stdout",
          "output_type": "stream",
          "text": [
            "There are 0.001561834445548772 % of data in totalcharges is missing\n"
          ]
        }
      ],
      "source": [
        "df['totalcharges'] = df[\"totalcharges\"].replace(\" \", np.nan) #replacing empty string into nan\n",
        "df.totalcharges = df.totalcharges.astype('float64') #change totalcharges type into float64\n",
        "print(f'There are {df.totalcharges.isna().sum()/ len(df)} % of data in totalcharges is missing') #count % of missing value in totalcharge"
      ]
    },
    {
      "cell_type": "markdown",
      "metadata": {
        "id": "wKTmDVQQXroY"
      },
      "source": [
        "There's only 0.001% data that missing, i decide to drop this value"
      ]
    },
    {
      "cell_type": "code",
      "execution_count": 10,
      "metadata": {
        "id": "WI4GbmEgX0vQ"
      },
      "outputs": [],
      "source": [
        "df = df.dropna() #drop missing value"
      ]
    },
    {
      "cell_type": "code",
      "execution_count": 11,
      "metadata": {
        "colab": {
          "base_uri": "https://localhost:8080/",
          "height": 175
        },
        "id": "WIiHwOwrNB-W",
        "outputId": "60290b0a-0ffa-4157-979a-e13bb70312d2"
      },
      "outputs": [
        {
          "data": {
            "text/html": [
              "<div>\n",
              "<style scoped>\n",
              "    .dataframe tbody tr th:only-of-type {\n",
              "        vertical-align: middle;\n",
              "    }\n",
              "\n",
              "    .dataframe tbody tr th {\n",
              "        vertical-align: top;\n",
              "    }\n",
              "\n",
              "    .dataframe thead th {\n",
              "        text-align: right;\n",
              "    }\n",
              "</style>\n",
              "<table border=\"1\" class=\"dataframe\">\n",
              "  <thead>\n",
              "    <tr style=\"text-align: right;\">\n",
              "      <th></th>\n",
              "      <th>count</th>\n",
              "      <th>mean</th>\n",
              "      <th>std</th>\n",
              "      <th>min</th>\n",
              "      <th>25%</th>\n",
              "      <th>50%</th>\n",
              "      <th>75%</th>\n",
              "      <th>max</th>\n",
              "    </tr>\n",
              "  </thead>\n",
              "  <tbody>\n",
              "    <tr>\n",
              "      <th>seniorcitizen</th>\n",
              "      <td>7032.0</td>\n",
              "      <td>0.162400</td>\n",
              "      <td>0.368844</td>\n",
              "      <td>0.00</td>\n",
              "      <td>0.0000</td>\n",
              "      <td>0.000</td>\n",
              "      <td>0.0000</td>\n",
              "      <td>1.00</td>\n",
              "    </tr>\n",
              "    <tr>\n",
              "      <th>tenure</th>\n",
              "      <td>7032.0</td>\n",
              "      <td>32.421786</td>\n",
              "      <td>24.545260</td>\n",
              "      <td>1.00</td>\n",
              "      <td>9.0000</td>\n",
              "      <td>29.000</td>\n",
              "      <td>55.0000</td>\n",
              "      <td>72.00</td>\n",
              "    </tr>\n",
              "    <tr>\n",
              "      <th>monthlycharges</th>\n",
              "      <td>7032.0</td>\n",
              "      <td>64.798208</td>\n",
              "      <td>30.085974</td>\n",
              "      <td>18.25</td>\n",
              "      <td>35.5875</td>\n",
              "      <td>70.350</td>\n",
              "      <td>89.8625</td>\n",
              "      <td>118.75</td>\n",
              "    </tr>\n",
              "    <tr>\n",
              "      <th>totalcharges</th>\n",
              "      <td>7032.0</td>\n",
              "      <td>2283.300441</td>\n",
              "      <td>2266.771362</td>\n",
              "      <td>18.80</td>\n",
              "      <td>401.4500</td>\n",
              "      <td>1397.475</td>\n",
              "      <td>3794.7375</td>\n",
              "      <td>8684.80</td>\n",
              "    </tr>\n",
              "  </tbody>\n",
              "</table>\n",
              "</div>"
            ],
            "text/plain": [
              "                 count         mean          std    min       25%       50%  \\\n",
              "seniorcitizen   7032.0     0.162400     0.368844   0.00    0.0000     0.000   \n",
              "tenure          7032.0    32.421786    24.545260   1.00    9.0000    29.000   \n",
              "monthlycharges  7032.0    64.798208    30.085974  18.25   35.5875    70.350   \n",
              "totalcharges    7032.0  2283.300441  2266.771362  18.80  401.4500  1397.475   \n",
              "\n",
              "                      75%      max  \n",
              "seniorcitizen      0.0000     1.00  \n",
              "tenure            55.0000    72.00  \n",
              "monthlycharges    89.8625   118.75  \n",
              "totalcharges    3794.7375  8684.80  "
            ]
          },
          "execution_count": 11,
          "metadata": {},
          "output_type": "execute_result"
        }
      ],
      "source": [
        "df.describe().T #see numerical descriptive"
      ]
    },
    {
      "cell_type": "markdown",
      "metadata": {
        "id": "vqoMpYdROVEm"
      },
      "source": [
        "> The longest customer that stays with the company is 72 month (6 years) with the average of 32 month (2,6 years). Nothing suspicious like outlier/missing value here. \n",
        "\n",
        "> There's a different value between totalcharges and monthly charges * tenure. Is this because the company's T&C or is there are any mistaken value?\n",
        "\n",
        "> The longer the customer stay, the charges are higher. The significance need to be analyzed further. The cheapest charges is 18.25 and the maximum is 118.75. Looking at `monthlycharges` column, their mean and median is different, i think they have skewed distribution"
      ]
    },
    {
      "cell_type": "code",
      "execution_count": 12,
      "metadata": {
        "id": "v2BDdx9JOIkw"
      },
      "outputs": [],
      "source": [
        "_df = df.copy() #just because i dont want my original data is lost"
      ]
    },
    {
      "cell_type": "code",
      "execution_count": 13,
      "metadata": {
        "colab": {
          "base_uri": "https://localhost:8080/"
        },
        "id": "lh-qG9OqPslD",
        "outputId": "6ec09301-71f5-42ed-8086-90bf55f31598"
      },
      "outputs": [
        {
          "name": "stderr",
          "output_type": "stream",
          "text": [
            "C:\\Users\\hp\\AppData\\Local\\Temp/ipykernel_4120/554452512.py:2: SettingWithCopyWarning: \n",
            "A value is trying to be set on a copy of a slice from a DataFrame.\n",
            "Try using .loc[row_indexer,col_indexer] = value instead\n",
            "\n",
            "See the caveats in the documentation: https://pandas.pydata.org/pandas-docs/stable/user_guide/indexing.html#returning-a-view-versus-a-copy\n",
            "  df['churn'] = (df['churn'] == 'Yes').astype(int) #those who answer Yes, will replaced with 1\n"
          ]
        }
      ],
      "source": [
        "# for the target i need to change the column's type, to make me easier for the analysis\n",
        "df['churn'] = (df['churn'] == 'Yes').astype(int) #those who answer Yes, will replaced with 1 "
      ]
    },
    {
      "cell_type": "code",
      "execution_count": 14,
      "metadata": {
        "colab": {
          "base_uri": "https://localhost:8080/",
          "height": 296
        },
        "id": "PVvQNBV9QEJc",
        "outputId": "b8cb6a00-4650-4290-f874-ef995956b52c"
      },
      "outputs": [
        {
          "data": {
            "text/plain": [
              "<AxesSubplot:ylabel='churn'>"
            ]
          },
          "execution_count": 14,
          "metadata": {},
          "output_type": "execute_result"
        },
        {
          "data": {
            "image/png": "[encoded data removed]",
            "text/plain": [
              "<Figure size 576x576 with 1 Axes>"
            ]
          },
          "metadata": {},
          "output_type": "display_data"
        }
      ],
      "source": [
        "targets = df.churn.value_counts()\n",
        "targets.plot.pie(autopct='%1.1f%%', shadow=True, figsize=(8,8))"
      ]
    },
    {
      "cell_type": "markdown",
      "metadata": {
        "id": "HvWcCnegQaQQ"
      },
      "source": [
        "> This resulting in imbalance of our data between those classes. This data provides lots of information STAY(73%) customer. We can still analyze it but we need to use consider using SMOTE to make our models better."
      ]
    },
    {
      "cell_type": "markdown",
      "metadata": {
        "id": "FS-c6WkRCxbr"
      },
      "source": [
        "## Cardinality"
      ]
    },
    {
      "cell_type": "code",
      "execution_count": 15,
      "metadata": {
        "colab": {
          "base_uri": "https://localhost:8080/"
        },
        "id": "ooEgUvspRMSB",
        "outputId": "7b68aae5-6e9c-4c46-91c5-8896174afdc6"
      },
      "outputs": [
        {
          "name": "stdout",
          "output_type": "stream",
          "text": [
            "Total of Cardinality in columns gender :  2\n",
            "Total of Cardinality in columns partner :  2\n",
            "Total of Cardinality in columns dependents :  2\n",
            "Total of Cardinality in columns phoneservice :  2\n",
            "Total of Cardinality in columns multiplelines :  3\n",
            "Total of Cardinality in columns internetservice :  3\n",
            "Total of Cardinality in columns onlinesecurity :  3\n",
            "Total of Cardinality in columns onlinebackup :  3\n",
            "Total of Cardinality in columns deviceprotection :  3\n",
            "Total of Cardinality in columns techsupport :  3\n",
            "Total of Cardinality in columns streamingtv :  3\n",
            "Total of Cardinality in columns streamingmovies :  3\n",
            "Total of Cardinality in columns contract :  3\n",
            "Total of Cardinality in columns paperlessbilling :  2\n",
            "Total of Cardinality in columns paymentmethod :  4\n"
          ]
        }
      ],
      "source": [
        "#cardinality check\n",
        "cardinal = df.select_dtypes(include='object')\n",
        "for uniq in cardinal : \n",
        "  print(f'Total of Cardinality in columns {uniq} : ',len(cardinal[uniq].unique()))"
      ]
    },
    {
      "cell_type": "markdown",
      "metadata": {
        "id": "3wseHamWZMNf"
      },
      "source": [
        "> I dont think there any high cardinality in this datasets since it only have maximum 4 uniqueness in this data. We can move on to next step"
      ]
    },
    {
      "cell_type": "code",
      "execution_count": 16,
      "metadata": {
        "colab": {
          "base_uri": "https://localhost:8080/",
          "height": 607
        },
        "id": "niQ9izZDQuVN",
        "outputId": "1a6fac7e-048d-48fe-a50e-7b36fc070fcb"
      },
      "outputs": [
        {
          "data": {
            "image/png": "[encoded data removed]",
            "text/plain": [
              "<Figure size 720x720 with 6 Axes>"
            ]
          },
          "metadata": {
            "needs_background": "light"
          },
          "output_type": "display_data"
        }
      ],
      "source": [
        "#data distribution\n",
        "df.hist(bins=15, figsize=(10,10), color='blue');"
      ]
    },
    {
      "cell_type": "markdown",
      "metadata": {
        "id": "JKvoyYzbaqeO"
      },
      "source": [
        "> There are lots of `not a senior citizen` customer in this data. \n",
        "\n",
        "> Most of our customer don't last too long since we can see the distribution is mostly located in lower value, this means the they only last < 10 months. \n",
        "\n",
        "> Lots of new customer (0 tenure) and fast-pace customer (only 1month)\n",
        "\n",
        "> As the definition says about what is `monthlycharges and totalcharges`, there should be a correlation between them and tenure. If we see from this distribution, totalcharges have lower value yet monthly charges spread in `middle value`. I'd like to analyze this further"
      ]
    },
    {
      "cell_type": "code",
      "execution_count": 17,
      "metadata": {
        "colab": {
          "base_uri": "https://localhost:8080/",
          "height": 423
        },
        "id": "C3sHlvenahaV",
        "outputId": "7f85563f-3399-40d7-9ebd-52d1226abfb3"
      },
      "outputs": [
        {
          "data": {
            "text/html": [
              "<div>\n",
              "<style scoped>\n",
              "    .dataframe tbody tr th:only-of-type {\n",
              "        vertical-align: middle;\n",
              "    }\n",
              "\n",
              "    .dataframe tbody tr th {\n",
              "        vertical-align: top;\n",
              "    }\n",
              "\n",
              "    .dataframe thead th {\n",
              "        text-align: right;\n",
              "    }\n",
              "</style>\n",
              "<table border=\"1\" class=\"dataframe\">\n",
              "  <thead>\n",
              "    <tr style=\"text-align: right;\">\n",
              "      <th></th>\n",
              "      <th>tenure</th>\n",
              "      <th>monthlycharges</th>\n",
              "      <th>totalcharges</th>\n",
              "    </tr>\n",
              "  </thead>\n",
              "  <tbody>\n",
              "    <tr>\n",
              "      <th>0</th>\n",
              "      <td>1</td>\n",
              "      <td>29.85</td>\n",
              "      <td>29.85</td>\n",
              "    </tr>\n",
              "    <tr>\n",
              "      <th>1</th>\n",
              "      <td>34</td>\n",
              "      <td>56.95</td>\n",
              "      <td>1889.50</td>\n",
              "    </tr>\n",
              "    <tr>\n",
              "      <th>2</th>\n",
              "      <td>2</td>\n",
              "      <td>53.85</td>\n",
              "      <td>108.15</td>\n",
              "    </tr>\n",
              "    <tr>\n",
              "      <th>3</th>\n",
              "      <td>45</td>\n",
              "      <td>42.30</td>\n",
              "      <td>1840.75</td>\n",
              "    </tr>\n",
              "    <tr>\n",
              "      <th>4</th>\n",
              "      <td>2</td>\n",
              "      <td>70.70</td>\n",
              "      <td>151.65</td>\n",
              "    </tr>\n",
              "    <tr>\n",
              "      <th>...</th>\n",
              "      <td>...</td>\n",
              "      <td>...</td>\n",
              "      <td>...</td>\n",
              "    </tr>\n",
              "    <tr>\n",
              "      <th>7038</th>\n",
              "      <td>24</td>\n",
              "      <td>84.80</td>\n",
              "      <td>1990.50</td>\n",
              "    </tr>\n",
              "    <tr>\n",
              "      <th>7039</th>\n",
              "      <td>72</td>\n",
              "      <td>103.20</td>\n",
              "      <td>7362.90</td>\n",
              "    </tr>\n",
              "    <tr>\n",
              "      <th>7040</th>\n",
              "      <td>11</td>\n",
              "      <td>29.60</td>\n",
              "      <td>346.45</td>\n",
              "    </tr>\n",
              "    <tr>\n",
              "      <th>7041</th>\n",
              "      <td>4</td>\n",
              "      <td>74.40</td>\n",
              "      <td>306.60</td>\n",
              "    </tr>\n",
              "    <tr>\n",
              "      <th>7042</th>\n",
              "      <td>66</td>\n",
              "      <td>105.65</td>\n",
              "      <td>6844.50</td>\n",
              "    </tr>\n",
              "  </tbody>\n",
              "</table>\n",
              "<p>7032 rows × 3 columns</p>\n",
              "</div>"
            ],
            "text/plain": [
              "      tenure  monthlycharges  totalcharges\n",
              "0          1           29.85         29.85\n",
              "1         34           56.95       1889.50\n",
              "2          2           53.85        108.15\n",
              "3         45           42.30       1840.75\n",
              "4          2           70.70        151.65\n",
              "...      ...             ...           ...\n",
              "7038      24           84.80       1990.50\n",
              "7039      72          103.20       7362.90\n",
              "7040      11           29.60        346.45\n",
              "7041       4           74.40        306.60\n",
              "7042      66          105.65       6844.50\n",
              "\n",
              "[7032 rows x 3 columns]"
            ]
          },
          "execution_count": 17,
          "metadata": {},
          "output_type": "execute_result"
        }
      ],
      "source": [
        "df[['tenure','monthlycharges', 'totalcharges']] #analyze the correlation between these columns"
      ]
    },
    {
      "cell_type": "markdown",
      "metadata": {
        "id": "E5Ly16lOaAra"
      },
      "source": [
        "> Index 0 shows that customer who only last for 1month only charged 29.85, no further charges. But this need to be analyzed about what they're subs.\n",
        "\n",
        "> index 2 shows that customer who last for 2 months have totalcharges twice from their monthlycharges.\n",
        "\n",
        "> Those, i can conclude that these columns do have relations but might be different in terms of what subs they made(internetservice and phoneservice). I Assume I only need 1 columns (either monthly charges/total charges) as my feature in this models but this needs to be analyzed to know which feture is better to use"
      ]
    },
    {
      "cell_type": "code",
      "execution_count": 18,
      "metadata": {},
      "outputs": [
        {
          "name": "stderr",
          "output_type": "stream",
          "text": [
            "C:\\Users\\hp\\AppData\\Local\\Temp/ipykernel_4120/2232958919.py:1: SettingWithCopyWarning: \n",
            "A value is trying to be set on a copy of a slice from a DataFrame.\n",
            "Try using .loc[row_indexer,col_indexer] = value instead\n",
            "\n",
            "See the caveats in the documentation: https://pandas.pydata.org/pandas-docs/stable/user_guide/indexing.html#returning-a-view-versus-a-copy\n",
            "  df['diff'] = df['totalcharges'] - df['monthlycharges'] * df['tenure'] #see the extra cbarge between totalcharge and monthlycharge*venue\n"
          ]
        },
        {
          "data": {
            "text/html": [
              "<div>\n",
              "<style scoped>\n",
              "    .dataframe tbody tr th:only-of-type {\n",
              "        vertical-align: middle;\n",
              "    }\n",
              "\n",
              "    .dataframe tbody tr th {\n",
              "        vertical-align: top;\n",
              "    }\n",
              "\n",
              "    .dataframe thead th {\n",
              "        text-align: right;\n",
              "    }\n",
              "</style>\n",
              "<table border=\"1\" class=\"dataframe\">\n",
              "  <thead>\n",
              "    <tr style=\"text-align: right;\">\n",
              "      <th></th>\n",
              "      <th>diff</th>\n",
              "      <th>totalcharges</th>\n",
              "      <th>monthlycharges</th>\n",
              "      <th>tenure</th>\n",
              "    </tr>\n",
              "  </thead>\n",
              "  <tbody>\n",
              "    <tr>\n",
              "      <th>1746</th>\n",
              "      <td>-370.85</td>\n",
              "      <td>8013.55</td>\n",
              "      <td>116.45</td>\n",
              "      <td>72</td>\n",
              "    </tr>\n",
              "    <tr>\n",
              "      <th>1997</th>\n",
              "      <td>-360.65</td>\n",
              "      <td>6717.90</td>\n",
              "      <td>105.65</td>\n",
              "      <td>67</td>\n",
              "    </tr>\n",
              "    <tr>\n",
              "      <th>2337</th>\n",
              "      <td>-355.35</td>\n",
              "      <td>5510.65</td>\n",
              "      <td>104.75</td>\n",
              "      <td>56</td>\n",
              "    </tr>\n",
              "    <tr>\n",
              "      <th>3200</th>\n",
              "      <td>-354.05</td>\n",
              "      <td>5278.15</td>\n",
              "      <td>104.30</td>\n",
              "      <td>54</td>\n",
              "    </tr>\n",
              "    <tr>\n",
              "      <th>3634</th>\n",
              "      <td>-347.80</td>\n",
              "      <td>7845.80</td>\n",
              "      <td>113.80</td>\n",
              "      <td>72</td>\n",
              "    </tr>\n",
              "    <tr>\n",
              "      <th>2264</th>\n",
              "      <td>-335.25</td>\n",
              "      <td>7711.25</td>\n",
              "      <td>114.95</td>\n",
              "      <td>70</td>\n",
              "    </tr>\n",
              "    <tr>\n",
              "      <th>6710</th>\n",
              "      <td>-321.95</td>\n",
              "      <td>3023.65</td>\n",
              "      <td>69.70</td>\n",
              "      <td>48</td>\n",
              "    </tr>\n",
              "    <tr>\n",
              "      <th>4086</th>\n",
              "      <td>-300.50</td>\n",
              "      <td>5401.90</td>\n",
              "      <td>79.20</td>\n",
              "      <td>72</td>\n",
              "    </tr>\n",
              "    <tr>\n",
              "      <th>6582</th>\n",
              "      <td>-296.00</td>\n",
              "      <td>7283.25</td>\n",
              "      <td>106.75</td>\n",
              "      <td>71</td>\n",
              "    </tr>\n",
              "    <tr>\n",
              "      <th>5028</th>\n",
              "      <td>-288.60</td>\n",
              "      <td>7624.20</td>\n",
              "      <td>109.90</td>\n",
              "      <td>72</td>\n",
              "    </tr>\n",
              "  </tbody>\n",
              "</table>\n",
              "</div>"
            ],
            "text/plain": [
              "        diff  totalcharges  monthlycharges  tenure\n",
              "1746 -370.85       8013.55          116.45      72\n",
              "1997 -360.65       6717.90          105.65      67\n",
              "2337 -355.35       5510.65          104.75      56\n",
              "3200 -354.05       5278.15          104.30      54\n",
              "3634 -347.80       7845.80          113.80      72\n",
              "2264 -335.25       7711.25          114.95      70\n",
              "6710 -321.95       3023.65           69.70      48\n",
              "4086 -300.50       5401.90           79.20      72\n",
              "6582 -296.00       7283.25          106.75      71\n",
              "5028 -288.60       7624.20          109.90      72"
            ]
          },
          "execution_count": 18,
          "metadata": {},
          "output_type": "execute_result"
        }
      ],
      "source": [
        "df['diff'] = df['totalcharges'] - df['monthlycharges'] * df['tenure'] #see the extra cbarge between totalcharge and monthlycharge*venue\n",
        "df[['diff','totalcharges','monthlycharges','tenure']].sort_values(by='diff').head(10) #see top10 with lowest extra charge"
      ]
    },
    {
      "cell_type": "markdown",
      "metadata": {},
      "source": [
        "> There's an extra cost up to 375 and discount up to 371 as well. There are customers who got discount and those who got an extra cost. I somehow think that those customer who got `extra cost` too much will tend to churn. This will be anaylised further is my assumption is right or no"
      ]
    },
    {
      "cell_type": "markdown",
      "metadata": {
        "id": "P_x9hoUzC3zz"
      },
      "source": [
        "## Correlation"
      ]
    },
    {
      "cell_type": "code",
      "execution_count": 19,
      "metadata": {
        "colab": {
          "base_uri": "https://localhost:8080/",
          "height": 693
        },
        "id": "lSWZ7BPwQ9DL",
        "outputId": "7c6e6903-2eb0-4e2f-b496-cc353edb515f"
      },
      "outputs": [
        {
          "data": {
            "text/plain": [
              "Text(0.5, 1.0, 'Linear Correlation With Churn Customer')"
            ]
          },
          "execution_count": 19,
          "metadata": {},
          "output_type": "execute_result"
        },
        {
          "data": {
            "image/png": "[encoded data removed]",
            "text/plain": [
              "<Figure size 1080x720 with 1 Axes>"
            ]
          },
          "metadata": {
            "needs_background": "light"
          },
          "output_type": "display_data"
        }
      ],
      "source": [
        "plt.subplots(figsize=(15, 10))\n",
        "corr = df.corr()['churn'].sort_values()\n",
        "corr.plot(kind='bar')\n",
        "plt.xticks(rotation=45)\n",
        "plt.grid()\n",
        "plt.xlabel('Columns')\n",
        "plt.ylabel('Correlation Score')\n",
        "plt.title('Linear Correlation With Churn Customer')"
      ]
    },
    {
      "cell_type": "markdown",
      "metadata": {
        "id": "xn4U-mFycCoL"
      },
      "source": [
        "> It's a small correlation score since it only range from 0 - 0.2. This means I'd like to include all of these columns `if they are independent`"
      ]
    },
    {
      "cell_type": "code",
      "execution_count": 20,
      "metadata": {
        "colab": {
          "base_uri": "https://localhost:8080/",
          "height": 558
        },
        "id": "19XRgFiwb53k",
        "outputId": "19c1f6dc-5862-4456-b881-a53fa20bdea5"
      },
      "outputs": [
        {
          "data": {
            "text/plain": [
              "<AxesSubplot:>"
            ]
          },
          "execution_count": 20,
          "metadata": {},
          "output_type": "execute_result"
        },
        {
          "data": {
            "image/png": "[encoded data removed]",
            "text/plain": [
              "<Figure size 1080x648 with 2 Axes>"
            ]
          },
          "metadata": {
            "needs_background": "light"
          },
          "output_type": "display_data"
        }
      ],
      "source": [
        "plt.figure(figsize=(15,9))\n",
        "sns.heatmap(df.corr().abs(), annot=True) #check multicorrelation each column"
      ]
    },
    {
      "cell_type": "markdown",
      "metadata": {
        "id": "c_8HQEoWcpOI"
      },
      "source": [
        "> As i Expect, there's a high correlation between totalcharge and tenure columns. Of course it is, because totalcharges is monthlycharges * tenure. This means we can drop either tenure/totalcharge. I prefer to drop totalcharge and use monthlycharge instead"
      ]
    },
    {
      "cell_type": "code",
      "execution_count": 21,
      "metadata": {
        "colab": {
          "base_uri": "https://localhost:8080/"
        },
        "id": "na11ux_qC-PO",
        "outputId": "ea9c0ef9-8eb1-48d2-f9e3-9dfc8f6220b3"
      },
      "outputs": [
        {
          "name": "stdout",
          "output_type": "stream",
          "text": [
            "gender : ['Female' 'Male']\n",
            "partner : ['Yes' 'No']\n",
            "dependents : ['No' 'Yes']\n",
            "phoneservice : ['No' 'Yes']\n",
            "multiplelines : ['No phone service' 'No' 'Yes']\n",
            "internetservice : ['DSL' 'Fiber optic' 'No']\n",
            "onlinesecurity : ['No' 'Yes' 'No internet service']\n",
            "onlinebackup : ['Yes' 'No' 'No internet service']\n",
            "deviceprotection : ['No' 'Yes' 'No internet service']\n",
            "techsupport : ['No' 'Yes' 'No internet service']\n",
            "streamingtv : ['No' 'Yes' 'No internet service']\n",
            "streamingmovies : ['No' 'Yes' 'No internet service']\n",
            "contract : ['Month-to-month' 'One year' 'Two year']\n",
            "paperlessbilling : ['Yes' 'No']\n",
            "paymentmethod : ['Electronic check' 'Mailed check' 'Bank transfer (automatic)'\n",
            " 'Credit card (automatic)']\n"
          ]
        }
      ],
      "source": [
        "#analyze in the uniqueness from each column\n",
        "for cols in cardinal:\n",
        "  print(f'{cols} : {df[cols].unique()}')"
      ]
    },
    {
      "cell_type": "markdown",
      "metadata": {
        "id": "VOL7rqutEkU7"
      },
      "source": [
        "> There are columns with the same uniqueness > onlinesecurity, onlinebackup, deviceprotection, techsupport, streamingtv, and streamingmovies because they have `No internet service` as their value. Maybe they have correlation with the internetservice column? As well as multiplelines, why would it have `no phone service` as their value, is it connected with phoneservice?"
      ]
    },
    {
      "cell_type": "code",
      "execution_count": 22,
      "metadata": {
        "colab": {
          "base_uri": "https://localhost:8080/"
        },
        "id": "WJdiH1aOE0S9",
        "outputId": "783a3fc9-f269-4763-d9cd-ef73bf66c602"
      },
      "outputs": [
        {
          "data": {
            "text/plain": [
              "onlinesecurity       onlinebackup         deviceprotection     techsupport          streamingtv          streamingmovies    \n",
              "No internet service  No internet service  No internet service  No internet service  No internet service  No internet service    1520\n",
              "dtype: int64"
            ]
          },
          "execution_count": 22,
          "metadata": {},
          "output_type": "execute_result"
        }
      ],
      "source": [
        "no_internetservice = df[df.internetservice == 'No'][['onlinesecurity', 'onlinebackup', 'deviceprotection', 'techsupport', 'streamingtv', 'streamingmovies']]\n",
        "no_internetservice.value_counts()"
      ]
    },
    {
      "cell_type": "code",
      "execution_count": 23,
      "metadata": {},
      "outputs": [
        {
          "data": {
            "text/plain": [
              "No phone service    680\n",
              "Name: multiplelines, dtype: int64"
            ]
          },
          "execution_count": 23,
          "metadata": {},
          "output_type": "execute_result"
        }
      ],
      "source": [
        "no_phoneservice = df[df.phoneservice == 'No']['multiplelines']\n",
        "no_phoneservice.value_counts()"
      ]
    },
    {
      "cell_type": "markdown",
      "metadata": {
        "id": "RaNDVh7dFMaD"
      },
      "source": [
        "> Those who dont have internetservice, will have no internetservice either in onlinesecurity, onlinebackup, deviceprotection, techsupport, streamingtv, and streamingmovies columns. \n",
        "\n",
        "> As well as phoneservice. Those custome who don't have phoneservice returns with no multiplelines. \n",
        "\n",
        "> Therefor I can only pay attention to internetservice and phoneservices. This proof that some features are dependent "
      ]
    },
    {
      "cell_type": "code",
      "execution_count": 24,
      "metadata": {
        "colab": {
          "base_uri": "https://localhost:8080/"
        },
        "id": "a2y8KYubZuKQ",
        "outputId": "050d3c31-7927-4a37-bdde-f25d596ec8bf"
      },
      "outputs": [
        {
          "data": {
            "text/plain": [
              "Mailed check                 949\n",
              "Bank transfer (automatic)    653\n",
              "Credit card (automatic)      639\n",
              "Electronic check             623\n",
              "Name: paymentmethod, dtype: int64"
            ]
          },
          "execution_count": 24,
          "metadata": {},
          "output_type": "execute_result"
        }
      ],
      "source": [
        "no_paperless = df[df.paperlessbilling == 'No']['paymentmethod']\n",
        "no_paperless.value_counts()"
      ]
    },
    {
      "cell_type": "markdown",
      "metadata": {
        "id": "3Dq5iKTLZ2XP"
      },
      "source": [
        "> I was assuming that maybe those who don't do paperless billing, might only have `automatic` paymentmethod. But the result is : Eventho they choose to not paperless, they still use all of the option for payment. There's no further analysis for paperless billing"
      ]
    },
    {
      "cell_type": "code",
      "execution_count": 25,
      "metadata": {
        "id": "xAgThJAbcTkO"
      },
      "outputs": [],
      "source": [
        "#creating function for categorical relation with the target\n",
        "def correlation_plot (cat1) :\n",
        "  plt.figure(figsize=(15, 6))\n",
        "\n",
        "  #amount of category\n",
        "  plt.subplot(1,3,1)\n",
        "  sns.countplot(x=cat1, data=df)\n",
        "  plt.xlabel('Fig 1')\n",
        "  plt.ylabel(f'Total Customer')\n",
        "  plt.title(f'Customer {cat1} Category')\n",
        "  plt.xticks(rotation=45)\n",
        "\n",
        "  #category with their churned decision\n",
        "  plt.subplot(1,3,2)\n",
        "  sns.countplot(x=cat1, data=df, hue='churn')\n",
        "  plt.xlabel('Fig 2')\n",
        "  plt.title(f'{cat1} Churned Count')\n",
        "  plt.xticks(rotation=45)\n",
        "  plt.legend()\n",
        "\n",
        "  #people who do churned based on categorical\n",
        "  plt.subplot(1,3,3)\n",
        "  df.groupby(cat1).mean()['churn'].sort_values(ascending=False).plot(kind='bar')\n",
        "  plt.xlabel('Fig 3')\n",
        "  plt.ylabel('Average of Customer Who Churned')\n",
        "  plt.title(f'{cat1} Customer That Churned')\n"
      ]
    },
    {
      "cell_type": "code",
      "execution_count": 26,
      "metadata": {
        "colab": {
          "base_uri": "https://localhost:8080/",
          "height": 447
        },
        "id": "vJiqkM26fHH6",
        "outputId": "5c162646-77f2-4c24-912f-601484e0d2e8"
      },
      "outputs": [
        {
          "data": {
            "image/png": "[encoded data removed]",
            "text/plain": [
              "<Figure size 1080x432 with 3 Axes>"
            ]
          },
          "metadata": {
            "needs_background": "light"
          },
          "output_type": "display_data"
        }
      ],
      "source": [
        "correlation_plot('gender') # is gender affecting their decision to leave?"
      ]
    },
    {
      "cell_type": "markdown",
      "metadata": {
        "id": "Tb8cdmSchVbi"
      },
      "source": [
        "> Fig 1 : Both female and male have the same proportion in this data, but the amount of those who churned and not is pretty much different\n",
        "\n",
        "> Fig 2 :  The count of both gender mostly tend to stay.\n",
        "\n",
        "> Fig 3 : If we took the mean of those who Churned, there's no correlation between Male & Female with Churned. All gender have the same average of churn. \n",
        "\n",
        "It means no matter what gender they are, it is not important because their gender won't affect their decision to leave."
      ]
    },
    {
      "cell_type": "code",
      "execution_count": 27,
      "metadata": {
        "colab": {
          "base_uri": "https://localhost:8080/",
          "height": 403
        },
        "id": "2vio0MyshgOX",
        "outputId": "9c22d2da-125b-4340-d737-f165fe6acf69"
      },
      "outputs": [
        {
          "data": {
            "image/png": "[encoded data removed]",
            "text/plain": [
              "<Figure size 1080x432 with 3 Axes>"
            ]
          },
          "metadata": {
            "needs_background": "light"
          },
          "output_type": "display_data"
        }
      ],
      "source": [
        "correlation_plot('seniorcitizen') # is the status of senior affecting their decision to leave?"
      ]
    },
    {
      "cell_type": "markdown",
      "metadata": {
        "id": "_7nlOKCqhvIZ"
      },
      "source": [
        "> Fig 1 : There's an imbalance of data between senior & not senior. There are less customer who is senior. Our data consist lots of young customer.\n",
        "\n",
        "> Fig 2 :  Both senior and not, they tend to stay by the count, actually. But due to imbalance of dataset, it'd be unfair if we use the count of those who churned/not\n",
        "\n",
        "> Fig 3 : Therefore we look at the average. Those who is senior tend to churned rather than those who is junior\n",
        "\n",
        "There are lots of possibilities why the senior-er the customer, the more likely they're to churn. But there is a discussion in [Quora](https://www.quora.com/In-the-telecommunication-industry-Is-the-churn-rate-higher-in-senior-citizens-in-comparison-with-others-If-yes-what-might-be-the-factors-that-contribute-to-this) that explain why senior customer more likely to churn `being higher churn rate in seniors due to death, moving in with family members or a nursing or senior apartment that has its own switch. It’s also typical for very elderly seniors to have a land line instead of cell phone.`"
      ]
    },
    {
      "cell_type": "code",
      "execution_count": 28,
      "metadata": {
        "colab": {
          "base_uri": "https://localhost:8080/",
          "height": 410
        },
        "id": "R2qKyDjmhs4x",
        "outputId": "35e476e4-e4b9-4b99-d495-c5c2bd14e884"
      },
      "outputs": [
        {
          "data": {
            "image/png": "[encoded data removed]",
            "text/plain": [
              "<Figure size 1080x432 with 3 Axes>"
            ]
          },
          "metadata": {
            "needs_background": "light"
          },
          "output_type": "display_data"
        }
      ],
      "source": [
        "correlation_plot('partner') # is having partner affecting their decision to leave?"
      ]
    },
    {
      "cell_type": "markdown",
      "metadata": {
        "id": "8iLnsWv5wry8"
      },
      "source": [
        "> Fig 1 : This dataset have balance amount of customer who have partner & don't.\n",
        "\n",
        "> Fig 2 :  Those who don't have partner tend churned, but overall they want to stay in our company\n",
        "\n",
        "> Fig 3 : The mean of those who churned are higher when they don't have partner\n",
        "\n",
        "Assuming that the churn is affected because they don't have partner, it might because they stay alone and they like to explore other's services. It might different with someone who live with their partner, changing subscription might be hard because they have different perspective and decide to stay in what they're currently in"
      ]
    },
    {
      "cell_type": "code",
      "execution_count": 29,
      "metadata": {
        "colab": {
          "base_uri": "https://localhost:8080/",
          "height": 410
        },
        "id": "lhfQmO_okq35",
        "outputId": "de832bb0-9aaa-49b5-e16f-7ffe268a559d"
      },
      "outputs": [
        {
          "data": {
            "image/png": "[encoded data removed]",
            "text/plain": [
              "<Figure size 1080x432 with 3 Axes>"
            ]
          },
          "metadata": {
            "needs_background": "light"
          },
          "output_type": "display_data"
        }
      ],
      "source": [
        "correlation_plot('dependents') # is having dependents affecting their decision to leave?"
      ]
    },
    {
      "cell_type": "markdown",
      "metadata": {
        "id": "iMtrjlQ1xF1r"
      },
      "source": [
        "> Fig 1 : This dataset majorly consist customer who don't have dependents.\n",
        "\n",
        "> Fig 2 :  Those who don't have dependents tend stay, but remember our data is imbalance for the classes. Seeing only in fig 2 is not fair\n",
        "\n",
        "> Fig 3 : The mean of those who churned are higher when they don't have dependents\n",
        "\n",
        "Similar like `do they have partner/no`, a condition where our customer don't have dependents make them feel free to change and live as they want to be. Let's take a sample when we have a children and they like `Spacetoon channel` that only exist in A Company, while we actually love `CNN News` that don't exist in A company, it'll be hard for us to decide which company should we stay. Therefore, those who don't have dependents can live freely and choose what they want, that's why their churn rate is higher"
      ]
    },
    {
      "cell_type": "code",
      "execution_count": 30,
      "metadata": {
        "colab": {
          "base_uri": "https://localhost:8080/",
          "height": 475
        },
        "id": "8EpNhPyi5Jsf",
        "outputId": "30a7278f-e9a0-4b9a-b10c-84540aa46359"
      },
      "outputs": [
        {
          "data": {
            "image/png": "[encoded data removed]",
            "text/plain": [
              "<Figure size 1080x432 with 3 Axes>"
            ]
          },
          "metadata": {
            "needs_background": "light"
          },
          "output_type": "display_data"
        }
      ],
      "source": [
        "correlation_plot('contract') # is the customer's contract affecting their decision to leave?"
      ]
    },
    {
      "cell_type": "markdown",
      "metadata": {
        "id": "aDOf5n9p5YSr"
      },
      "source": [
        "> Fig 1 : Most of our customer is having month-to-month contract\n",
        "\n",
        "> Fig 2 :  Overall, no matter what their contract is, they still tend to stay, but it's not fair since our dataset for contract is not balance\n",
        "\n",
        "> Fig 3 : The mean of those who churned are higher when they have month to month contract, the longer their contract, the longer they stay in company (not churn)\n",
        "\n",
        "Even tho month-to-month contract having higher churn rate, but this should be considered with their monthly charges. If in the end we get more profit with serving month-to-month contract, then its fine even if we lost our customer. But my objective is to not letting them go, I want them to stay. Why so ? [HireDNA](https://hiredna.com/churn-rate-and-contract-length-finding-the-sweet-spot-for-your-saas-product/#:~:text=One%20of%20the%20best%20studies,average%20churn%20rate%20of%2016.7%25.) have explained it. There are pro-cons about keepingcustomer to stay by serving longer contract, While having a contract length of 2.5 years or longer has nearly half the churn rate of one that’s less than a year, there are some inherent drawbacks that could potentially hurt your overall revenue. "
      ]
    },
    {
      "cell_type": "code",
      "execution_count": 31,
      "metadata": {
        "colab": {
          "base_uri": "https://localhost:8080/",
          "height": 446
        },
        "id": "W33Qe7rbBf44",
        "outputId": "3d2f8db7-8a92-4a68-ef78-9f3979a17b71"
      },
      "outputs": [
        {
          "data": {
            "image/png": "[encoded data removed]",
            "text/plain": [
              "<Figure size 1080x432 with 3 Axes>"
            ]
          },
          "metadata": {
            "needs_background": "light"
          },
          "output_type": "display_data"
        }
      ],
      "source": [
        "correlation_plot('internetservice') # is having internetservice affecting their decision to leave?"
      ]
    },
    {
      "cell_type": "markdown",
      "metadata": {
        "id": "zxQnG17OFxyf"
      },
      "source": [
        "> Fig 1 : Most of our user have `fiber optic` as their internet service.\n",
        "\n",
        "> Fig 2 : All of the internet service our customer choose still resulting in their tendention to stay, but fiber optic have higher amount of churn. \n",
        "\n",
        "> Fig 3 : Customer with fiber optic as their internetservice have the highest score of churned.\n",
        "\n",
        "However, those who have fiber optic internetservices tends to churn. The discussion goes [here](https://www.cybiant.com/resources/predicting-customer-churn-in-power-bi/#:~:text=Remarkably%2C%20the%20churn%20rate%20of,company%20is%20even%20below%2010%25.).By common-sense one could interfere that it is more difficult to end your contract and look for a new telco provider when a customer has no access to the internet. This could be a cause for the low churn-rate of this group of customers. Although one has to keep in mind customers could buy internet services at other companies. I personally assume this is because our company's fiber optic is too uncomfortable/unaffordable. This will be analyzed further"
      ]
    },
    {
      "cell_type": "code",
      "execution_count": 32,
      "metadata": {
        "colab": {
          "base_uri": "https://localhost:8080/",
          "height": 522
        },
        "id": "AE07KbPRHFYh",
        "outputId": "1400c2ca-3192-435f-aa75-71af13e4686b"
      },
      "outputs": [
        {
          "data": {
            "image/png": "[encoded data removed]",
            "text/plain": [
              "<Figure size 1080x432 with 3 Axes>"
            ]
          },
          "metadata": {
            "needs_background": "light"
          },
          "output_type": "display_data"
        }
      ],
      "source": [
        "correlation_plot('paymentmethod') # is payment methods affecting their decision to leave?"
      ]
    },
    {
      "cell_type": "markdown",
      "metadata": {
        "id": "syRMHa4oHx22"
      },
      "source": [
        "> Fig 1 : Mostly, our customer use electronic check for their payment method\n",
        "\n",
        "> Fig 2 : However, electronic check also have the highest value of churned \n",
        "\n",
        "> Fig 3 : Those who churned are those who mostly use electronic check as their payment\n",
        "\n",
        "Since it's related to `payment` there might be additional charge if we prefer to electronic check as our payment method. This will be analyzed further. But that's my assumption because there's a differences with monthlycharges, tenure, and totalcharges. The totalcharges columns are high than monthlycharges * tenure, there must be unseen charges that needs to be known."
      ]
    },
    {
      "cell_type": "code",
      "execution_count": 33,
      "metadata": {
        "colab": {
          "base_uri": "https://localhost:8080/",
          "height": 428
        },
        "id": "CzS19_UjZJia",
        "outputId": "d40f853a-7081-45cf-be63-1be504abda9f"
      },
      "outputs": [
        {
          "data": {
            "image/png": "[encoded data removed]",
            "text/plain": [
              "<Figure size 1080x432 with 3 Axes>"
            ]
          },
          "metadata": {
            "needs_background": "light"
          },
          "output_type": "display_data"
        }
      ],
      "source": [
        "correlation_plot('paperlessbilling') # is paperlessbilling affecting their decision to leave?"
      ]
    },
    {
      "cell_type": "markdown",
      "metadata": {},
      "source": [
        "> Fig 1 : Mostly, our customer use prefer to paperlessbilling\n",
        "\n",
        "> Fig 2 : However, paperless billing also have the higher value of churned \n",
        "\n",
        "> Fig 3 : Those who churned are those who mostly use prefer paperlessbilling\n",
        "\n",
        "It's hard to create any assumption about this feature, is those customer who choose paperlessbilling charged higher? or is it hard for them to make payments? are we late in sgiving them service ? do they actually need transparancy for their charges? My only assumptions is because they don't feel comfortable when its become paperlessbilling, or probably this feature actually not `independent`. This need to be analyzed further"
      ]
    },
    {
      "cell_type": "code",
      "execution_count": 34,
      "metadata": {
        "colab": {
          "base_uri": "https://localhost:8080/",
          "height": 143
        },
        "id": "gBnhhL003JeS",
        "outputId": "e5a60276-d2a5-47b6-a317-0ece9e809d11"
      },
      "outputs": [
        {
          "data": {
            "text/html": [
              "<div>\n",
              "<style scoped>\n",
              "    .dataframe tbody tr th:only-of-type {\n",
              "        vertical-align: middle;\n",
              "    }\n",
              "\n",
              "    .dataframe tbody tr th {\n",
              "        vertical-align: top;\n",
              "    }\n",
              "\n",
              "    .dataframe thead th {\n",
              "        text-align: right;\n",
              "    }\n",
              "</style>\n",
              "<table border=\"1\" class=\"dataframe\">\n",
              "  <thead>\n",
              "    <tr style=\"text-align: right;\">\n",
              "      <th></th>\n",
              "      <th>seniorcitizen</th>\n",
              "      <th>tenure</th>\n",
              "      <th>monthlycharges</th>\n",
              "      <th>totalcharges</th>\n",
              "      <th>diff</th>\n",
              "    </tr>\n",
              "    <tr>\n",
              "      <th>churn</th>\n",
              "      <th></th>\n",
              "      <th></th>\n",
              "      <th></th>\n",
              "      <th></th>\n",
              "      <th></th>\n",
              "    </tr>\n",
              "  </thead>\n",
              "  <tbody>\n",
              "    <tr>\n",
              "      <th>0</th>\n",
              "      <td>0.128995</td>\n",
              "      <td>37.650010</td>\n",
              "      <td>61.307408</td>\n",
              "      <td>2555.344141</td>\n",
              "      <td>0.140858</td>\n",
              "    </tr>\n",
              "    <tr>\n",
              "      <th>1</th>\n",
              "      <td>0.254682</td>\n",
              "      <td>17.979133</td>\n",
              "      <td>74.441332</td>\n",
              "      <td>1531.796094</td>\n",
              "      <td>0.187266</td>\n",
              "    </tr>\n",
              "  </tbody>\n",
              "</table>\n",
              "</div>"
            ],
            "text/plain": [
              "       seniorcitizen     tenure  monthlycharges  totalcharges      diff\n",
              "churn                                                                  \n",
              "0           0.128995  37.650010       61.307408   2555.344141  0.140858\n",
              "1           0.254682  17.979133       74.441332   1531.796094  0.187266"
            ]
          },
          "execution_count": 34,
          "metadata": {},
          "output_type": "execute_result"
        }
      ],
      "source": [
        "churn_mean = df.groupby('churn').mean() #looking at the behaviour of churned customer\n",
        "churn_mean"
      ]
    },
    {
      "cell_type": "markdown",
      "metadata": {
        "id": "RcG7ttXqLDwC"
      },
      "source": [
        "> By looking at the table above, we can conclude that churned customer are those who pay high monthlycharges. They might feel like this is `too expensive` for monthlycharges\n",
        "\n",
        "> Meanwhile, those who stays pays lower monthly charges yet higher totalcharges.\n",
        "\n",
        "> Those who leaves are customer with higher extra cost\n",
        "\n",
        "Why so?\n",
        "Because those who churned are those who do month to month contract, it means month-to-month contract are more expensive than yearly contract. It's obvious if the totalcharges for those who curned are lower because they stopped at the 1st month of use. Therefore I state totalcharges is not a good feature, type of contract and monthlycharges is better to become a feature for price range"
      ]
    },
    {
      "cell_type": "code",
      "execution_count": 35,
      "metadata": {},
      "outputs": [
        {
          "data": {
            "text/html": [
              "<div>\n",
              "<style scoped>\n",
              "    .dataframe tbody tr th:only-of-type {\n",
              "        vertical-align: middle;\n",
              "    }\n",
              "\n",
              "    .dataframe tbody tr th {\n",
              "        vertical-align: top;\n",
              "    }\n",
              "\n",
              "    .dataframe thead th {\n",
              "        text-align: right;\n",
              "    }\n",
              "</style>\n",
              "<table border=\"1\" class=\"dataframe\">\n",
              "  <thead>\n",
              "    <tr style=\"text-align: right;\">\n",
              "      <th></th>\n",
              "      <th>seniorcitizen</th>\n",
              "      <th>tenure</th>\n",
              "      <th>monthlycharges</th>\n",
              "      <th>totalcharges</th>\n",
              "      <th>churn</th>\n",
              "      <th>diff</th>\n",
              "    </tr>\n",
              "    <tr>\n",
              "      <th>internetservice</th>\n",
              "      <th></th>\n",
              "      <th></th>\n",
              "      <th></th>\n",
              "      <th></th>\n",
              "      <th></th>\n",
              "      <th></th>\n",
              "    </tr>\n",
              "  </thead>\n",
              "  <tbody>\n",
              "    <tr>\n",
              "      <th>No</th>\n",
              "      <td>0.034211</td>\n",
              "      <td>30.667763</td>\n",
              "      <td>21.076283</td>\n",
              "      <td>665.220329</td>\n",
              "      <td>0.074342</td>\n",
              "      <td>0.664276</td>\n",
              "    </tr>\n",
              "    <tr>\n",
              "      <th>DSL</th>\n",
              "      <td>0.107202</td>\n",
              "      <td>32.889487</td>\n",
              "      <td>58.088017</td>\n",
              "      <td>2119.789259</td>\n",
              "      <td>0.189983</td>\n",
              "      <td>-0.196316</td>\n",
              "    </tr>\n",
              "    <tr>\n",
              "      <th>Fiber optic</th>\n",
              "      <td>0.268411</td>\n",
              "      <td>32.917959</td>\n",
              "      <td>91.500129</td>\n",
              "      <td>3205.304570</td>\n",
              "      <td>0.418928</td>\n",
              "      <td>0.175016</td>\n",
              "    </tr>\n",
              "  </tbody>\n",
              "</table>\n",
              "</div>"
            ],
            "text/plain": [
              "                 seniorcitizen     tenure  monthlycharges  totalcharges  \\\n",
              "internetservice                                                           \n",
              "No                    0.034211  30.667763       21.076283    665.220329   \n",
              "DSL                   0.107202  32.889487       58.088017   2119.789259   \n",
              "Fiber optic           0.268411  32.917959       91.500129   3205.304570   \n",
              "\n",
              "                    churn      diff  \n",
              "internetservice                      \n",
              "No               0.074342  0.664276  \n",
              "DSL              0.189983 -0.196316  \n",
              "Fiber optic      0.418928  0.175016  "
            ]
          },
          "execution_count": 35,
          "metadata": {},
          "output_type": "execute_result"
        }
      ],
      "source": [
        "internet_service_mean = df.groupby('internetservice').mean() #looking at the internet service charges\n",
        "internet_service_mean.sort_values(by='monthlycharges')"
      ]
    },
    {
      "cell_type": "code",
      "execution_count": 36,
      "metadata": {
        "colab": {
          "base_uri": "https://localhost:8080/",
          "height": 312
        },
        "id": "PSpAtw8YOUVA",
        "outputId": "c6b4edcf-1b50-409f-a069-64e1f68433cf"
      },
      "outputs": [
        {
          "data": {
            "text/plain": [
              "[Text(0.5, 1.0, 'Relation Between InternetServices With MonthlyCharges')]"
            ]
          },
          "execution_count": 36,
          "metadata": {},
          "output_type": "execute_result"
        },
        {
          "data": {
            "image/png": "[encoded data removed]",
            "text/plain": [
              "<Figure size 432x288 with 1 Axes>"
            ]
          },
          "metadata": {
            "needs_background": "light"
          },
          "output_type": "display_data"
        }
      ],
      "source": [
        "#check price range for internetservice\n",
        "sns.scatterplot(x=df['internetservice'], y= df['monthlycharges']).set(title='Relation Between InternetServices With MonthlyCharges')"
      ]
    },
    {
      "cell_type": "markdown",
      "metadata": {
        "id": "lsZRJ7igOozy"
      },
      "source": [
        "> My assumption was right.  Those user who have internetservice (either it is fiberoptic or DSL) have a higher price range for monthlycharges. But Fiberoptic is the most expensive one. This is why our customer is leave, there might an uncomfortable services with high price and our customer don't like it and they prefer to leave."
      ]
    },
    {
      "cell_type": "code",
      "execution_count": 37,
      "metadata": {},
      "outputs": [
        {
          "data": {
            "text/plain": [
              "[Text(0.5, 1.0, 'Relation Between Phoneservice With MonthlyCharges')]"
            ]
          },
          "execution_count": 37,
          "metadata": {},
          "output_type": "execute_result"
        },
        {
          "data": {
            "image/png": "[encoded data removed]",
            "text/plain": [
              "<Figure size 432x288 with 1 Axes>"
            ]
          },
          "metadata": {
            "needs_background": "light"
          },
          "output_type": "display_data"
        }
      ],
      "source": [
        "#check price range for internetservice\n",
        "sns.scatterplot(x=df['phoneservice'], y= df['monthlycharges']).set(title='Relation Between Phoneservice With MonthlyCharges')"
      ]
    },
    {
      "cell_type": "markdown",
      "metadata": {},
      "source": [
        "> As well as internetservice, those who use Phone service have to pay more for their charges. The range is up to 20-120 while those without phone service only need to pay for 25-65 for their monthly charges"
      ]
    },
    {
      "cell_type": "markdown",
      "metadata": {
        "id": "VKYgUFluMgaB"
      },
      "source": [
        "## EDA CONCLUSION\n",
        "\n",
        "After I do analyze our datasets about why we lost our customer, here are some insights that needed to be considered\n",
        "\n",
        "1. Those who churned are those who have `month-to-month` contract. Because they have month-to-month contract, they have short tenure and they left. The average of their monthlycharges is higher than those who do `yearly` contract.\n",
        "\n",
        "2. However, mostly our customer prefer to have month-to-month contract. This should be considered is it better to let them go and finding new customer or should we retain them by giving certain longer contract.\n",
        "\n",
        "3. The services that makes the price goes up is internetservices with fiberoptic as options because the price range is higher and phoneservice. It is normal for expensive price when we use internetservice, but having trouble with churn customer means we might lack in giving them service. It's not about price, but about the service.\n",
        "\n",
        "4. Gender doesn't really affect the tendention to stay/churned. Customer's profile that might affecting the decision to churned is senior citizen, dependents, contract, payment method, and paperless billing"
      ]
    },
    {
      "cell_type": "markdown",
      "metadata": {
        "id": "0dBuQzEmbeo3"
      },
      "source": [
        "# Data Preprocessing"
      ]
    },
    {
      "cell_type": "markdown",
      "metadata": {},
      "source": [
        "## Seed Setting"
      ]
    },
    {
      "cell_type": "code",
      "execution_count": 52,
      "metadata": {},
      "outputs": [],
      "source": [
        "#setting up seed to keep the value \n",
        "tf.random.set_seed(55)\n",
        "np.random.seed(55)"
      ]
    },
    {
      "cell_type": "markdown",
      "metadata": {
        "id": "N3gljNtSbgFo"
      },
      "source": [
        "## Split Data"
      ]
    },
    {
      "cell_type": "code",
      "execution_count": 53,
      "metadata": {
        "id": "YRrIKqczcP-Y"
      },
      "outputs": [],
      "source": [
        "X = df.drop(columns = [\"churn\"]) # features\n",
        "y = df[\"churn\"] # target label"
      ]
    },
    {
      "cell_type": "code",
      "execution_count": 54,
      "metadata": {
        "id": "HnfrR9PCbfmD"
      },
      "outputs": [],
      "source": [
        "random_state=50 #stating random_state to make it constant\n",
        "X_train, X_test, y_train, y_test = train_test_split(X, y, test_size = 0.1, stratify = y, random_state = random_state)\n",
        "X_train_, X_val, y_train_, y_val = train_test_split(X_train, y_train, test_size = 0.2, stratify=y_train, random_state = random_state)"
      ]
    },
    {
      "cell_type": "markdown",
      "metadata": {},
      "source": [
        "> I take 10% for testing set, 20% for validation set, and 70% for my training set.\n",
        "\n",
        "> I decide to take higher portion for training for models to learn better"
      ]
    },
    {
      "cell_type": "markdown",
      "metadata": {
        "id": "B5EcaiXkc1al"
      },
      "source": [
        "## Feature Engineering\n",
        "\n",
        "Based on my EDA, I've found features that are not independent. For my models I'm going to use all independent columns as my feature. Those features are : 'seniorcitizen', 'partner', 'dependents', 'tenure',\n",
        "       'phoneservice', 'internetservice', 'contract', \n",
        "       'paperlessbilling', 'paymentmethod', 'monthlycharges'"
      ]
    },
    {
      "cell_type": "code",
      "execution_count": 40,
      "metadata": {
        "id": "nohgCBKlcqYA"
      },
      "outputs": [],
      "source": [
        "#creating pipeline for scaling and encoding\n",
        "scaling = Pipeline([('scaler', StandardScaler())])\n",
        "encode = Pipeline([('encoder', OneHotEncoder())])"
      ]
    },
    {
      "cell_type": "code",
      "execution_count": 41,
      "metadata": {},
      "outputs": [],
      "source": [
        "prep_pipeline = ColumnTransformer([\n",
        "     ('scaling', scaling , ['monthlycharges','tenure','seniorcitizen']), #scaling all numerical columns\n",
        "     ('encode', encode, ['paymentmethod','paperlessbilling','contract','internetservice','phoneservice',\n",
        "     'partner','dependents']) #encoding all categorical columns\n",
        "])"
      ]
    },
    {
      "cell_type": "markdown",
      "metadata": {},
      "source": [
        "> Take a note that the default setting of ColumnTransformer is `dropping` the column we don't write. Meaning the rest of the columsn that are not listed in `prep_pipeline` is now gone and we can continue to the next step"
      ]
    },
    {
      "cell_type": "code",
      "execution_count": 55,
      "metadata": {},
      "outputs": [],
      "source": [
        "#clean the data with preprocessing pipeline\n",
        "X_train_ = prep_pipeline.fit_transform(X_train_)\n",
        "X_val_final = prep_pipeline.transform(X_val)\n",
        "X_test_final = prep_pipeline.transform(X_test)"
      ]
    },
    {
      "cell_type": "code",
      "execution_count": 56,
      "metadata": {},
      "outputs": [
        {
          "data": {
            "text/plain": [
              "(5062, 21)"
            ]
          },
          "execution_count": 56,
          "metadata": {},
          "output_type": "execute_result"
        }
      ],
      "source": [
        "X_train_.shape #look how much shape in X_train_ for input Node"
      ]
    },
    {
      "cell_type": "markdown",
      "metadata": {},
      "source": [
        "> It has 21 features, means we have 21 as input and 1 as outout (binary classification)"
      ]
    },
    {
      "cell_type": "code",
      "execution_count": 57,
      "metadata": {},
      "outputs": [],
      "source": [
        "#tensorflow pipeline\n",
        "train_data = tf.data.Dataset.from_tensor_slices((X_train_, y_train_)).shuffle(10000).batch(30)\n",
        "\n",
        "val_data = tf.data.Dataset.from_tensor_slices((X_val_final, y_val)).shuffle(10000).batch(30)"
      ]
    },
    {
      "cell_type": "markdown",
      "metadata": {},
      "source": [
        "> I choose to use batch=30 to reduce the computation and process for epochs. I've tried with several different number (5, 10, and 20) but the result for classificaiton report is not significant. Why would we took a high cost when the result is just the same with the cheap cost, huh ? I prefer to use easier one"
      ]
    },
    {
      "cell_type": "markdown",
      "metadata": {},
      "source": [
        "# Model Definition\n",
        "\n",
        "Using 2 API : Functional and Sequential"
      ]
    },
    {
      "cell_type": "markdown",
      "metadata": {},
      "source": [
        "## Functional API"
      ]
    },
    {
      "cell_type": "code",
      "execution_count": 58,
      "metadata": {},
      "outputs": [],
      "source": [
        "input = Input(shape=(21,)) #shape of X_train_ is 21 after encode\n",
        "layer_1 = Dense(8, activation='relu')(input)\n",
        "output = Dense(1, activation='sigmoid')(layer_1)\n",
        "\n",
        "model_1 =  Model(inputs=input, outputs=output)"
      ]
    },
    {
      "cell_type": "markdown",
      "metadata": {},
      "source": [
        "## Sequential API"
      ]
    },
    {
      "cell_type": "code",
      "execution_count": 59,
      "metadata": {},
      "outputs": [],
      "source": [
        "model= Sequential()\n",
        "model.add(Dense(16,activation='relu', input_shape=(21,))) #1 hidden layer with 16neuron\n",
        "model.add(Dense(1, activation='sigmoid')) #1 output"
      ]
    },
    {
      "cell_type": "markdown",
      "metadata": {},
      "source": [
        "# Model Training\n",
        "This part take baseline model and further will be improved with Model Improvement"
      ]
    },
    {
      "cell_type": "code",
      "execution_count": 60,
      "metadata": {},
      "outputs": [
        {
          "name": "stdout",
          "output_type": "stream",
          "text": [
            "Epoch 1/50\n",
            "169/169 [==============================] - 2s 4ms/step - loss: 0.5657 - accuracy: 0.6956 - val_loss: 0.4681 - val_accuracy: 0.7686\n",
            "Epoch 2/50\n",
            "169/169 [==============================] - 1s 3ms/step - loss: 0.4389 - accuracy: 0.7912 - val_loss: 0.4416 - val_accuracy: 0.7820\n",
            "Epoch 3/50\n",
            "169/169 [==============================] - 1s 3ms/step - loss: 0.4247 - accuracy: 0.7979 - val_loss: 0.4361 - val_accuracy: 0.7859\n",
            "Epoch 4/50\n",
            "169/169 [==============================] - 0s 3ms/step - loss: 0.4207 - accuracy: 0.8013 - val_loss: 0.4346 - val_accuracy: 0.7844\n",
            "Epoch 5/50\n",
            "169/169 [==============================] - 1s 3ms/step - loss: 0.4185 - accuracy: 0.8034 - val_loss: 0.4334 - val_accuracy: 0.7852\n",
            "Epoch 6/50\n",
            "169/169 [==============================] - 1s 3ms/step - loss: 0.4175 - accuracy: 0.8017 - val_loss: 0.4331 - val_accuracy: 0.7820\n",
            "Epoch 7/50\n",
            "169/169 [==============================] - 0s 3ms/step - loss: 0.4163 - accuracy: 0.8032 - val_loss: 0.4329 - val_accuracy: 0.7859\n",
            "Epoch 8/50\n",
            "169/169 [==============================] - 0s 3ms/step - loss: 0.4154 - accuracy: 0.8046 - val_loss: 0.4343 - val_accuracy: 0.7796\n",
            "Epoch 9/50\n",
            "169/169 [==============================] - 0s 3ms/step - loss: 0.4148 - accuracy: 0.8023 - val_loss: 0.4332 - val_accuracy: 0.7828\n",
            "Epoch 10/50\n",
            "169/169 [==============================] - 0s 3ms/step - loss: 0.4139 - accuracy: 0.8040 - val_loss: 0.4319 - val_accuracy: 0.7938\n",
            "Epoch 11/50\n",
            "169/169 [==============================] - 0s 3ms/step - loss: 0.4136 - accuracy: 0.8040 - val_loss: 0.4324 - val_accuracy: 0.7923\n",
            "Epoch 12/50\n",
            "169/169 [==============================] - 0s 3ms/step - loss: 0.4123 - accuracy: 0.8062 - val_loss: 0.4329 - val_accuracy: 0.7923\n",
            "Epoch 13/50\n",
            "169/169 [==============================] - 0s 3ms/step - loss: 0.4122 - accuracy: 0.8066 - val_loss: 0.4318 - val_accuracy: 0.7907\n",
            "Epoch 14/50\n",
            "169/169 [==============================] - 0s 3ms/step - loss: 0.4117 - accuracy: 0.8064 - val_loss: 0.4334 - val_accuracy: 0.7859\n",
            "Epoch 15/50\n",
            "169/169 [==============================] - 1s 3ms/step - loss: 0.4112 - accuracy: 0.8056 - val_loss: 0.4314 - val_accuracy: 0.7923\n",
            "Epoch 16/50\n",
            "169/169 [==============================] - 0s 2ms/step - loss: 0.4110 - accuracy: 0.8072 - val_loss: 0.4318 - val_accuracy: 0.7891\n",
            "Epoch 17/50\n",
            "169/169 [==============================] - 0s 3ms/step - loss: 0.4106 - accuracy: 0.8023 - val_loss: 0.4323 - val_accuracy: 0.7915\n",
            "Epoch 18/50\n",
            "169/169 [==============================] - 1s 5ms/step - loss: 0.4110 - accuracy: 0.8050 - val_loss: 0.4309 - val_accuracy: 0.7907\n",
            "Epoch 19/50\n",
            "169/169 [==============================] - 1s 4ms/step - loss: 0.4099 - accuracy: 0.8086 - val_loss: 0.4309 - val_accuracy: 0.7899\n",
            "Epoch 20/50\n",
            "169/169 [==============================] - 1s 3ms/step - loss: 0.4099 - accuracy: 0.8060 - val_loss: 0.4310 - val_accuracy: 0.7907\n",
            "Epoch 21/50\n",
            "169/169 [==============================] - 1s 3ms/step - loss: 0.4095 - accuracy: 0.8070 - val_loss: 0.4303 - val_accuracy: 0.7930\n",
            "Epoch 22/50\n",
            "169/169 [==============================] - 1s 3ms/step - loss: 0.4095 - accuracy: 0.8078 - val_loss: 0.4312 - val_accuracy: 0.7915\n",
            "Epoch 23/50\n",
            "169/169 [==============================] - 0s 3ms/step - loss: 0.4090 - accuracy: 0.8078 - val_loss: 0.4328 - val_accuracy: 0.7883\n",
            "Epoch 24/50\n",
            "169/169 [==============================] - 1s 3ms/step - loss: 0.4085 - accuracy: 0.8094 - val_loss: 0.4323 - val_accuracy: 0.7875\n",
            "Epoch 25/50\n",
            "169/169 [==============================] - 1s 3ms/step - loss: 0.4084 - accuracy: 0.8088 - val_loss: 0.4323 - val_accuracy: 0.7907\n",
            "Epoch 26/50\n",
            "169/169 [==============================] - 0s 3ms/step - loss: 0.4086 - accuracy: 0.8078 - val_loss: 0.4310 - val_accuracy: 0.7899\n",
            "Epoch 27/50\n",
            "169/169 [==============================] - 1s 3ms/step - loss: 0.4079 - accuracy: 0.8084 - val_loss: 0.4305 - val_accuracy: 0.7923\n",
            "Epoch 28/50\n",
            "169/169 [==============================] - 1s 3ms/step - loss: 0.4077 - accuracy: 0.8088 - val_loss: 0.4312 - val_accuracy: 0.7938\n",
            "Epoch 29/50\n",
            "169/169 [==============================] - 1s 3ms/step - loss: 0.4077 - accuracy: 0.8102 - val_loss: 0.4307 - val_accuracy: 0.7930\n",
            "Epoch 30/50\n",
            "169/169 [==============================] - 0s 3ms/step - loss: 0.4074 - accuracy: 0.8078 - val_loss: 0.4310 - val_accuracy: 0.7923\n",
            "Epoch 31/50\n",
            "169/169 [==============================] - 1s 3ms/step - loss: 0.4070 - accuracy: 0.8090 - val_loss: 0.4325 - val_accuracy: 0.7899\n",
            "Epoch 32/50\n",
            "169/169 [==============================] - 0s 3ms/step - loss: 0.4074 - accuracy: 0.8096 - val_loss: 0.4324 - val_accuracy: 0.7930\n",
            "Epoch 33/50\n",
            "169/169 [==============================] - 1s 3ms/step - loss: 0.4068 - accuracy: 0.8074 - val_loss: 0.4319 - val_accuracy: 0.7915\n",
            "Epoch 34/50\n",
            "169/169 [==============================] - 1s 3ms/step - loss: 0.4068 - accuracy: 0.8074 - val_loss: 0.4322 - val_accuracy: 0.7938\n",
            "Epoch 35/50\n",
            "169/169 [==============================] - 1s 3ms/step - loss: 0.4072 - accuracy: 0.8078 - val_loss: 0.4319 - val_accuracy: 0.7923\n",
            "Epoch 36/50\n",
            "169/169 [==============================] - 1s 3ms/step - loss: 0.4060 - accuracy: 0.8104 - val_loss: 0.4311 - val_accuracy: 0.7915\n",
            "Epoch 37/50\n",
            "169/169 [==============================] - 0s 3ms/step - loss: 0.4061 - accuracy: 0.8088 - val_loss: 0.4348 - val_accuracy: 0.7859\n",
            "Epoch 38/50\n",
            "169/169 [==============================] - 1s 3ms/step - loss: 0.4065 - accuracy: 0.8098 - val_loss: 0.4325 - val_accuracy: 0.7923\n",
            "Epoch 39/50\n",
            "169/169 [==============================] - 1s 3ms/step - loss: 0.4049 - accuracy: 0.8088 - val_loss: 0.4322 - val_accuracy: 0.7930\n",
            "Epoch 40/50\n",
            "169/169 [==============================] - 0s 3ms/step - loss: 0.4050 - accuracy: 0.8096 - val_loss: 0.4316 - val_accuracy: 0.7923\n",
            "Epoch 41/50\n",
            "169/169 [==============================] - 1s 3ms/step - loss: 0.4051 - accuracy: 0.8088 - val_loss: 0.4319 - val_accuracy: 0.7923\n",
            "Epoch 42/50\n",
            "169/169 [==============================] - 1s 3ms/step - loss: 0.4048 - accuracy: 0.8109 - val_loss: 0.4331 - val_accuracy: 0.7867\n",
            "Epoch 43/50\n",
            "169/169 [==============================] - 1s 3ms/step - loss: 0.4053 - accuracy: 0.8074 - val_loss: 0.4316 - val_accuracy: 0.7930\n",
            "Epoch 44/50\n",
            "169/169 [==============================] - 0s 3ms/step - loss: 0.4050 - accuracy: 0.8078 - val_loss: 0.4313 - val_accuracy: 0.7970\n",
            "Epoch 45/50\n",
            "169/169 [==============================] - 1s 3ms/step - loss: 0.4051 - accuracy: 0.8068 - val_loss: 0.4318 - val_accuracy: 0.7946\n",
            "Epoch 46/50\n",
            "169/169 [==============================] - 1s 3ms/step - loss: 0.4044 - accuracy: 0.8102 - val_loss: 0.4316 - val_accuracy: 0.7930\n",
            "Epoch 47/50\n",
            "169/169 [==============================] - 0s 3ms/step - loss: 0.4046 - accuracy: 0.8084 - val_loss: 0.4326 - val_accuracy: 0.7891\n",
            "Epoch 48/50\n",
            "169/169 [==============================] - 0s 3ms/step - loss: 0.4041 - accuracy: 0.8090 - val_loss: 0.4335 - val_accuracy: 0.7938\n",
            "Epoch 49/50\n",
            "169/169 [==============================] - 1s 3ms/step - loss: 0.4039 - accuracy: 0.8092 - val_loss: 0.4318 - val_accuracy: 0.7875\n",
            "Epoch 50/50\n",
            "169/169 [==============================] - 1s 3ms/step - loss: 0.4037 - accuracy: 0.8074 - val_loss: 0.4319 - val_accuracy: 0.7930\n",
            "Epoch 1/50\n",
            "169/169 [==============================] - 1s 4ms/step - loss: 0.5334 - accuracy: 0.7380 - val_loss: 0.4711 - val_accuracy: 0.7757\n",
            "Epoch 2/50\n",
            "169/169 [==============================] - 1s 3ms/step - loss: 0.4458 - accuracy: 0.7904 - val_loss: 0.4491 - val_accuracy: 0.7709\n",
            "Epoch 3/50\n",
            "169/169 [==============================] - 1s 3ms/step - loss: 0.4302 - accuracy: 0.7979 - val_loss: 0.4415 - val_accuracy: 0.7749\n",
            "Epoch 4/50\n",
            "169/169 [==============================] - 0s 3ms/step - loss: 0.4242 - accuracy: 0.8015 - val_loss: 0.4382 - val_accuracy: 0.7804\n",
            "Epoch 5/50\n",
            "169/169 [==============================] - 1s 3ms/step - loss: 0.4212 - accuracy: 0.7991 - val_loss: 0.4363 - val_accuracy: 0.7812\n",
            "Epoch 6/50\n",
            "169/169 [==============================] - 1s 3ms/step - loss: 0.4190 - accuracy: 0.8026 - val_loss: 0.4359 - val_accuracy: 0.7915\n",
            "Epoch 7/50\n",
            "169/169 [==============================] - 1s 3ms/step - loss: 0.4183 - accuracy: 0.8021 - val_loss: 0.4344 - val_accuracy: 0.7859\n",
            "Epoch 8/50\n",
            "169/169 [==============================] - 1s 3ms/step - loss: 0.4174 - accuracy: 0.8003 - val_loss: 0.4338 - val_accuracy: 0.7859\n",
            "Epoch 9/50\n",
            "169/169 [==============================] - 1s 3ms/step - loss: 0.4164 - accuracy: 0.8032 - val_loss: 0.4346 - val_accuracy: 0.7867\n",
            "Epoch 10/50\n",
            "169/169 [==============================] - 1s 3ms/step - loss: 0.4155 - accuracy: 0.8023 - val_loss: 0.4336 - val_accuracy: 0.7938\n",
            "Epoch 11/50\n",
            "169/169 [==============================] - 0s 3ms/step - loss: 0.4153 - accuracy: 0.8036 - val_loss: 0.4324 - val_accuracy: 0.7875\n",
            "Epoch 12/50\n",
            "169/169 [==============================] - 1s 3ms/step - loss: 0.4146 - accuracy: 0.8030 - val_loss: 0.4323 - val_accuracy: 0.7875\n",
            "Epoch 13/50\n",
            "169/169 [==============================] - 1s 3ms/step - loss: 0.4146 - accuracy: 0.7999 - val_loss: 0.4319 - val_accuracy: 0.7907\n",
            "Epoch 14/50\n",
            "169/169 [==============================] - 1s 3ms/step - loss: 0.4138 - accuracy: 0.8038 - val_loss: 0.4326 - val_accuracy: 0.7867\n",
            "Epoch 15/50\n",
            "169/169 [==============================] - 1s 3ms/step - loss: 0.4133 - accuracy: 0.8048 - val_loss: 0.4316 - val_accuracy: 0.7899\n",
            "Epoch 16/50\n",
            "169/169 [==============================] - 0s 3ms/step - loss: 0.4132 - accuracy: 0.8042 - val_loss: 0.4318 - val_accuracy: 0.7907\n",
            "Epoch 17/50\n",
            "169/169 [==============================] - 0s 3ms/step - loss: 0.4130 - accuracy: 0.8046 - val_loss: 0.4316 - val_accuracy: 0.7883\n",
            "Epoch 18/50\n",
            "169/169 [==============================] - 1s 3ms/step - loss: 0.4123 - accuracy: 0.8074 - val_loss: 0.4314 - val_accuracy: 0.7907\n",
            "Epoch 19/50\n",
            "169/169 [==============================] - 0s 3ms/step - loss: 0.4123 - accuracy: 0.8048 - val_loss: 0.4323 - val_accuracy: 0.7899\n",
            "Epoch 20/50\n",
            "169/169 [==============================] - 1s 3ms/step - loss: 0.4121 - accuracy: 0.8048 - val_loss: 0.4319 - val_accuracy: 0.7867\n",
            "Epoch 21/50\n",
            "169/169 [==============================] - 1s 3ms/step - loss: 0.4115 - accuracy: 0.8044 - val_loss: 0.4319 - val_accuracy: 0.7875\n",
            "Epoch 22/50\n",
            "169/169 [==============================] - 1s 3ms/step - loss: 0.4111 - accuracy: 0.8044 - val_loss: 0.4316 - val_accuracy: 0.7907\n",
            "Epoch 23/50\n",
            "169/169 [==============================] - 1s 3ms/step - loss: 0.4112 - accuracy: 0.8048 - val_loss: 0.4318 - val_accuracy: 0.7907\n",
            "Epoch 24/50\n",
            "169/169 [==============================] - 1s 3ms/step - loss: 0.4108 - accuracy: 0.8054 - val_loss: 0.4320 - val_accuracy: 0.7883\n",
            "Epoch 25/50\n",
            "169/169 [==============================] - 0s 3ms/step - loss: 0.4106 - accuracy: 0.8066 - val_loss: 0.4316 - val_accuracy: 0.7867\n",
            "Epoch 26/50\n",
            "169/169 [==============================] - 0s 3ms/step - loss: 0.4105 - accuracy: 0.8056 - val_loss: 0.4326 - val_accuracy: 0.7859\n",
            "Epoch 27/50\n",
            "169/169 [==============================] - 1s 4ms/step - loss: 0.4107 - accuracy: 0.8046 - val_loss: 0.4322 - val_accuracy: 0.7891\n",
            "Epoch 28/50\n",
            "169/169 [==============================] - 1s 3ms/step - loss: 0.4103 - accuracy: 0.8058 - val_loss: 0.4319 - val_accuracy: 0.7875\n",
            "Epoch 29/50\n",
            "169/169 [==============================] - 0s 3ms/step - loss: 0.4101 - accuracy: 0.8030 - val_loss: 0.4312 - val_accuracy: 0.7867\n",
            "Epoch 30/50\n",
            "169/169 [==============================] - 0s 3ms/step - loss: 0.4099 - accuracy: 0.8078 - val_loss: 0.4319 - val_accuracy: 0.7867\n",
            "Epoch 31/50\n",
            "169/169 [==============================] - 1s 3ms/step - loss: 0.4100 - accuracy: 0.8066 - val_loss: 0.4329 - val_accuracy: 0.7875\n",
            "Epoch 32/50\n",
            "169/169 [==============================] - 1s 3ms/step - loss: 0.4093 - accuracy: 0.8064 - val_loss: 0.4322 - val_accuracy: 0.7883\n",
            "Epoch 33/50\n",
            "169/169 [==============================] - 1s 3ms/step - loss: 0.4091 - accuracy: 0.8086 - val_loss: 0.4331 - val_accuracy: 0.7836\n",
            "Epoch 34/50\n",
            "169/169 [==============================] - 0s 3ms/step - loss: 0.4086 - accuracy: 0.8082 - val_loss: 0.4325 - val_accuracy: 0.7891\n",
            "Epoch 35/50\n",
            "169/169 [==============================] - 0s 3ms/step - loss: 0.4090 - accuracy: 0.8044 - val_loss: 0.4332 - val_accuracy: 0.7891\n",
            "Epoch 36/50\n",
            "169/169 [==============================] - 1s 3ms/step - loss: 0.4091 - accuracy: 0.8070 - val_loss: 0.4325 - val_accuracy: 0.7875\n",
            "Epoch 37/50\n",
            "169/169 [==============================] - 1s 3ms/step - loss: 0.4088 - accuracy: 0.8068 - val_loss: 0.4325 - val_accuracy: 0.7875\n",
            "Epoch 38/50\n",
            "169/169 [==============================] - 1s 3ms/step - loss: 0.4084 - accuracy: 0.8070 - val_loss: 0.4323 - val_accuracy: 0.7907\n",
            "Epoch 39/50\n",
            "169/169 [==============================] - 1s 3ms/step - loss: 0.4087 - accuracy: 0.8084 - val_loss: 0.4321 - val_accuracy: 0.7867\n",
            "Epoch 40/50\n",
            "169/169 [==============================] - 1s 3ms/step - loss: 0.4085 - accuracy: 0.8058 - val_loss: 0.4318 - val_accuracy: 0.7883\n",
            "Epoch 41/50\n",
            "169/169 [==============================] - 1s 3ms/step - loss: 0.4080 - accuracy: 0.8088 - val_loss: 0.4365 - val_accuracy: 0.7867\n",
            "Epoch 42/50\n",
            "169/169 [==============================] - 0s 3ms/step - loss: 0.4087 - accuracy: 0.8094 - val_loss: 0.4326 - val_accuracy: 0.7875\n",
            "Epoch 43/50\n",
            "169/169 [==============================] - 1s 3ms/step - loss: 0.4083 - accuracy: 0.8084 - val_loss: 0.4328 - val_accuracy: 0.7867\n",
            "Epoch 44/50\n",
            "169/169 [==============================] - 1s 3ms/step - loss: 0.4077 - accuracy: 0.8062 - val_loss: 0.4333 - val_accuracy: 0.7883\n",
            "Epoch 45/50\n",
            "169/169 [==============================] - 1s 3ms/step - loss: 0.4080 - accuracy: 0.8056 - val_loss: 0.4329 - val_accuracy: 0.7867\n",
            "Epoch 46/50\n",
            "169/169 [==============================] - 0s 3ms/step - loss: 0.4079 - accuracy: 0.8060 - val_loss: 0.4331 - val_accuracy: 0.7899\n",
            "Epoch 47/50\n",
            "169/169 [==============================] - 1s 3ms/step - loss: 0.4076 - accuracy: 0.8064 - val_loss: 0.4328 - val_accuracy: 0.7867\n",
            "Epoch 48/50\n",
            "169/169 [==============================] - 1s 3ms/step - loss: 0.4074 - accuracy: 0.8074 - val_loss: 0.4336 - val_accuracy: 0.7852\n",
            "Epoch 49/50\n",
            "169/169 [==============================] - 0s 3ms/step - loss: 0.4074 - accuracy: 0.8080 - val_loss: 0.4335 - val_accuracy: 0.7867\n",
            "Epoch 50/50\n",
            "169/169 [==============================] - 1s 3ms/step - loss: 0.4073 - accuracy: 0.8068 - val_loss: 0.4326 - val_accuracy: 0.7852\n"
          ]
        }
      ],
      "source": [
        "################### SEQUENTIAL ###################\n",
        "\n",
        "model.compile(loss='binary_crossentropy', \n",
        "              optimizer = 'adam', \n",
        "              metrics = ['accuracy'])\n",
        "\n",
        "history = model.fit(train_data, epochs= 50, validation_data = val_data)\n",
        "\n",
        "################### FUNCTIONAL ###################                     \n",
        "\n",
        "model_1.compile(loss='binary_crossentropy', \n",
        "              optimizer = 'adam', \n",
        "              metrics = ['accuracy'])\n",
        "\n",
        "history_1 = model_1.fit(train_data, epochs= 50, validation_data = val_data)"
      ]
    },
    {
      "cell_type": "markdown",
      "metadata": {},
      "source": [
        "# Model Evaluation"
      ]
    },
    {
      "cell_type": "code",
      "execution_count": 61,
      "metadata": {},
      "outputs": [
        {
          "data": {
            "image/png": "[encoded data removed]",
            "text/plain": [
              "<Figure size 720x432 with 1 Axes>"
            ]
          },
          "metadata": {
            "needs_background": "light"
          },
          "output_type": "display_data"
        },
        {
          "data": {
            "image/png": "[encoded data removed]",
            "text/plain": [
              "<Figure size 720x432 with 1 Axes>"
            ]
          },
          "metadata": {
            "needs_background": "light"
          },
          "output_type": "display_data"
        }
      ],
      "source": [
        "metrics = pd.DataFrame(history.history)\n",
        "metrics_1 = pd.DataFrame(history_1.history)\n",
        "\n",
        "\n",
        "# plt.subplot(1,3,1)\n",
        "metrics[['loss','val_loss']].plot(figsize=(10, 6))\n",
        "plt.title('Metrics Sequential API')\n",
        "plt.ylabel('loss score')\n",
        "plt.xlabel('epochs')\n",
        "plt.show()\n",
        "\n",
        "# plt.subplot(1,2,2)\n",
        "metrics_1[['loss','val_loss']].plot(figsize=(10, 6))\n",
        "plt.title('Metrics Functional API')\n",
        "plt.ylabel('loss score')\n",
        "plt.xlabel('epochs')\n",
        "plt.show()"
      ]
    },
    {
      "cell_type": "markdown",
      "metadata": {},
      "source": [
        "> Take a look in y label, the range for loss score is 0.40 - 0.45 (only different 0.05 score) for both methods, this is a narrow range. In further, even tho this is a little bit `overfit` but it is still tolerable. I'm not going to look at accuracy score because it's not my main goal.\n",
        "\n",
        "> Since both Sequential & Functional resulting the same loss, I think they don't have significant differences even tho i've set different neuron (Sequential =16, Functional = 8). I assume this is because our dataset is not `big enough` to use a different Dense layer.\n",
        "\n",
        "> By personal insist, I'll choose to use Sequential API because the start point of val_loss is lower than Functional and have better line in val_loss (not too extreme score)"
      ]
    },
    {
      "cell_type": "code",
      "execution_count": 62,
      "metadata": {},
      "outputs": [
        {
          "name": "stdout",
          "output_type": "stream",
          "text": [
            "#### SEQUENTIAL THRESHOLD 0.5 ####\n",
            "              precision    recall  f1-score   support\n",
            "\n",
            "           0       0.83      0.89      0.86       517\n",
            "           1       0.62      0.50      0.55       187\n",
            "\n",
            "    accuracy                           0.79       704\n",
            "   macro avg       0.73      0.69      0.71       704\n",
            "weighted avg       0.77      0.79      0.78       704\n",
            "\n",
            "#### SEUQNTIAL THRESHOLD 0.3####\n",
            "              precision    recall  f1-score   support\n",
            "\n",
            "           0       0.88      0.74      0.81       517\n",
            "           1       0.51      0.73      0.60       187\n",
            "\n",
            "    accuracy                           0.74       704\n",
            "   macro avg       0.70      0.74      0.70       704\n",
            "weighted avg       0.78      0.74      0.75       704\n",
            "\n"
          ]
        }
      ],
      "source": [
        "### SEQUENTIAL 16 NEURON\n",
        "y_pred = model.predict(X_test_final)\n",
        "y_pred = np.where(y_pred > 0.5, 1, 0) #0.5 as threshold for classification\n",
        "\n",
        "print(\"#### SEQUENTIAL THRESHOLD 0.5 ####\")\n",
        "print(classification_report(y_test, y_pred))\n",
        "\n",
        "y_pred_3 = model.predict(X_test_final)\n",
        "y_pred_3 = np.where(y_pred_3 > 0.3, 1, 0) #0.3 as threshold for classification\n",
        "\n",
        "print(\"#### SEUQNTIAL THRESHOLD 0.3####\")\n",
        "print(classification_report(y_test, y_pred_3))"
      ]
    },
    {
      "cell_type": "markdown",
      "metadata": {},
      "source": [
        "> Remember that our data is imbalance and I'm not using SMOTE. We have lots of 0 classes(stay). This means our models might having trouble to predict data in classes 1 (minority). Seen in classification report within 0.5 threhold, t he score for data in class 1 is worse than class 0. Despite using SMOTE, I'm trying to `play` with the threhsold of classification with 0.5 and 0.3 as threshold.\n",
        "\n",
        "> I want my model to be better in predicting those who's going to churn rather than stay. This means I want my model to be accurate to predict class 1. I'm avoiding my model to wrong predict at churn customer, therefore I need to maximize the recall score because recall score is a score with the minimum False Negative\n",
        "\n",
        "> That's why I like to use the 0.3 threshold. Even tho our data is imbalance, but with 0.3 threhsold the recall score is better.\n",
        "\n",
        "> Since this is a baseline model, we can still improve our model through Model Improvement\n",
        "\n",
        "> I did try to use SMOTENC but it resulting worse to predict the class and the val score is not much different without SMOTE. I want to make this notebook as easy as i can therefore I delte all coding related to SMOTENC"
      ]
    },
    {
      "cell_type": "markdown",
      "metadata": {},
      "source": [
        "## Model Improvement"
      ]
    },
    {
      "cell_type": "code",
      "execution_count": 63,
      "metadata": {},
      "outputs": [
        {
          "name": "stdout",
          "output_type": "stream",
          "text": [
            "Epoch 1/100\n",
            "169/169 [==============================] - 3s 7ms/step - loss: 0.5785 - accuracy: 0.7343 - recall: 0.0000e+00 - val_loss: 0.5362 - val_accuracy: 0.7338 - val_recall: 0.0000e+00\n",
            "Epoch 2/100\n",
            "169/169 [==============================] - 1s 4ms/step - loss: 0.5263 - accuracy: 0.7343 - recall: 0.0000e+00 - val_loss: 0.4936 - val_accuracy: 0.7338 - val_recall: 0.0000e+00\n",
            "Epoch 3/100\n",
            "169/169 [==============================] - 1s 4ms/step - loss: 0.5007 - accuracy: 0.7343 - recall: 0.0000e+00 - val_loss: 0.4713 - val_accuracy: 0.7338 - val_recall: 0.0000e+00\n",
            "Epoch 4/100\n",
            "169/169 [==============================] - 1s 4ms/step - loss: 0.4908 - accuracy: 0.7343 - recall: 0.0000e+00 - val_loss: 0.4663 - val_accuracy: 0.7338 - val_recall: 0.0000e+00\n",
            "Epoch 5/100\n",
            "169/169 [==============================] - 1s 4ms/step - loss: 0.4729 - accuracy: 0.7343 - recall: 0.0000e+00 - val_loss: 0.4620 - val_accuracy: 0.7338 - val_recall: 0.0000e+00\n",
            "Epoch 6/100\n",
            "169/169 [==============================] - 1s 4ms/step - loss: 0.4745 - accuracy: 0.7343 - recall: 0.0000e+00 - val_loss: 0.4581 - val_accuracy: 0.7338 - val_recall: 0.0000e+00\n",
            "Epoch 7/100\n",
            "169/169 [==============================] - 1s 4ms/step - loss: 0.4693 - accuracy: 0.7509 - recall: 0.2825 - val_loss: 0.4537 - val_accuracy: 0.7662 - val_recall: 0.6855\n",
            "Epoch 8/100\n",
            "169/169 [==============================] - 1s 4ms/step - loss: 0.4668 - accuracy: 0.7608 - recall: 0.4059 - val_loss: 0.4519 - val_accuracy: 0.7701 - val_recall: 0.7033\n",
            "Epoch 9/100\n",
            "169/169 [==============================] - 1s 4ms/step - loss: 0.4667 - accuracy: 0.7548 - recall: 0.4654 - val_loss: 0.4504 - val_accuracy: 0.7678 - val_recall: 0.6973\n",
            "Epoch 10/100\n",
            "169/169 [==============================] - 1s 5ms/step - loss: 0.4592 - accuracy: 0.7560 - recall: 0.4922 - val_loss: 0.4491 - val_accuracy: 0.7686 - val_recall: 0.6944\n",
            "Epoch 11/100\n",
            "169/169 [==============================] - 1s 5ms/step - loss: 0.4592 - accuracy: 0.7562 - recall: 0.5175 - val_loss: 0.4471 - val_accuracy: 0.7701 - val_recall: 0.6766\n",
            "Epoch 12/100\n",
            "169/169 [==============================] - 1s 4ms/step - loss: 0.4548 - accuracy: 0.7695 - recall: 0.5487 - val_loss: 0.4489 - val_accuracy: 0.7686 - val_recall: 0.7003\n",
            "Epoch 13/100\n",
            "169/169 [==============================] - 1s 4ms/step - loss: 0.4539 - accuracy: 0.7667 - recall: 0.5628 - val_loss: 0.4463 - val_accuracy: 0.7709 - val_recall: 0.6795\n",
            "Epoch 14/100\n",
            "169/169 [==============================] - 1s 4ms/step - loss: 0.4441 - accuracy: 0.7764 - recall: 0.5584 - val_loss: 0.4435 - val_accuracy: 0.7733 - val_recall: 0.6736\n",
            "Epoch 15/100\n",
            "169/169 [==============================] - 1s 4ms/step - loss: 0.4458 - accuracy: 0.7730 - recall: 0.5576 - val_loss: 0.4421 - val_accuracy: 0.7749 - val_recall: 0.6320\n",
            "Epoch 16/100\n",
            "169/169 [==============================] - 1s 5ms/step - loss: 0.4411 - accuracy: 0.7888 - recall: 0.5859 - val_loss: 0.4406 - val_accuracy: 0.7757 - val_recall: 0.6499\n",
            "Epoch 17/100\n",
            "169/169 [==============================] - 1s 4ms/step - loss: 0.4497 - accuracy: 0.7744 - recall: 0.5457 - val_loss: 0.4403 - val_accuracy: 0.7796 - val_recall: 0.6261\n",
            "Epoch 18/100\n",
            "169/169 [==============================] - 1s 4ms/step - loss: 0.4484 - accuracy: 0.7791 - recall: 0.5450 - val_loss: 0.4376 - val_accuracy: 0.7812 - val_recall: 0.5964\n",
            "Epoch 19/100\n",
            "169/169 [==============================] - 1s 4ms/step - loss: 0.4429 - accuracy: 0.7785 - recall: 0.5509 - val_loss: 0.4383 - val_accuracy: 0.7757 - val_recall: 0.6142\n",
            "Epoch 20/100\n",
            "169/169 [==============================] - 1s 4ms/step - loss: 0.4391 - accuracy: 0.7833 - recall: 0.5636 - val_loss: 0.4383 - val_accuracy: 0.7820 - val_recall: 0.5816\n",
            "Epoch 21/100\n",
            "169/169 [==============================] - 1s 4ms/step - loss: 0.4400 - accuracy: 0.7945 - recall: 0.5480 - val_loss: 0.4374 - val_accuracy: 0.7923 - val_recall: 0.5401\n",
            "Epoch 22/100\n",
            "169/169 [==============================] - 1s 4ms/step - loss: 0.4378 - accuracy: 0.7912 - recall: 0.5375 - val_loss: 0.4355 - val_accuracy: 0.7875 - val_recall: 0.5549\n",
            "Epoch 23/100\n",
            "169/169 [==============================] - 1s 4ms/step - loss: 0.4422 - accuracy: 0.7864 - recall: 0.5309 - val_loss: 0.4356 - val_accuracy: 0.7859 - val_recall: 0.6202\n",
            "Epoch 24/100\n",
            "169/169 [==============================] - 1s 4ms/step - loss: 0.4365 - accuracy: 0.7888 - recall: 0.5502 - val_loss: 0.4365 - val_accuracy: 0.7804 - val_recall: 0.5875\n",
            "Epoch 25/100\n",
            "169/169 [==============================] - 1s 5ms/step - loss: 0.4413 - accuracy: 0.7801 - recall: 0.5309 - val_loss: 0.4375 - val_accuracy: 0.7820 - val_recall: 0.6261\n",
            "Epoch 26/100\n",
            "169/169 [==============================] - 1s 4ms/step - loss: 0.4410 - accuracy: 0.7853 - recall: 0.5554 - val_loss: 0.4365 - val_accuracy: 0.7836 - val_recall: 0.5994\n",
            "Epoch 27/100\n",
            "169/169 [==============================] - 1s 5ms/step - loss: 0.4377 - accuracy: 0.7908 - recall: 0.5435 - val_loss: 0.4354 - val_accuracy: 0.7930 - val_recall: 0.5905\n",
            "Epoch 28/100\n",
            "169/169 [==============================] - 1s 4ms/step - loss: 0.4376 - accuracy: 0.7886 - recall: 0.5338 - val_loss: 0.4349 - val_accuracy: 0.7907 - val_recall: 0.5786\n",
            "Epoch 29/100\n",
            "169/169 [==============================] - 1s 4ms/step - loss: 0.4359 - accuracy: 0.7882 - recall: 0.5361 - val_loss: 0.4361 - val_accuracy: 0.7828 - val_recall: 0.5994\n",
            "Epoch 30/100\n",
            "169/169 [==============================] - 1s 4ms/step - loss: 0.4327 - accuracy: 0.7928 - recall: 0.5628 - val_loss: 0.4354 - val_accuracy: 0.7852 - val_recall: 0.5935\n",
            "Epoch 31/100\n",
            "169/169 [==============================] - 1s 4ms/step - loss: 0.4337 - accuracy: 0.7859 - recall: 0.5487 - val_loss: 0.4359 - val_accuracy: 0.7867 - val_recall: 0.6172\n",
            "Epoch 32/100\n",
            "169/169 [==============================] - 1s 4ms/step - loss: 0.4353 - accuracy: 0.7890 - recall: 0.5532 - val_loss: 0.4384 - val_accuracy: 0.7773 - val_recall: 0.6380\n",
            "Epoch 33/100\n",
            "169/169 [==============================] - 1s 4ms/step - loss: 0.4361 - accuracy: 0.7888 - recall: 0.5725 - val_loss: 0.4362 - val_accuracy: 0.7796 - val_recall: 0.6231\n",
            "Epoch 34/100\n",
            "169/169 [==============================] - 1s 4ms/step - loss: 0.4344 - accuracy: 0.7949 - recall: 0.5606 - val_loss: 0.4366 - val_accuracy: 0.7844 - val_recall: 0.5519\n",
            "Epoch 35/100\n",
            "169/169 [==============================] - 1s 4ms/step - loss: 0.4297 - accuracy: 0.7940 - recall: 0.5591 - val_loss: 0.4371 - val_accuracy: 0.7804 - val_recall: 0.5994\n",
            "Epoch 36/100\n",
            "169/169 [==============================] - 1s 4ms/step - loss: 0.4415 - accuracy: 0.7882 - recall: 0.5532 - val_loss: 0.4356 - val_accuracy: 0.7859 - val_recall: 0.5638\n",
            "Epoch 37/100\n",
            "169/169 [==============================] - 1s 4ms/step - loss: 0.4335 - accuracy: 0.7951 - recall: 0.5480 - val_loss: 0.4351 - val_accuracy: 0.7844 - val_recall: 0.5964\n",
            "Epoch 38/100\n",
            "169/169 [==============================] - 1s 4ms/step - loss: 0.4416 - accuracy: 0.7870 - recall: 0.5316 - val_loss: 0.4346 - val_accuracy: 0.7836 - val_recall: 0.5460\n",
            "Epoch 39/100\n",
            "169/169 [==============================] - 1s 4ms/step - loss: 0.4311 - accuracy: 0.7916 - recall: 0.5569 - val_loss: 0.4345 - val_accuracy: 0.7836 - val_recall: 0.5668\n",
            "Epoch 40/100\n",
            "169/169 [==============================] - 1s 4ms/step - loss: 0.4295 - accuracy: 0.7902 - recall: 0.5792 - val_loss: 0.4371 - val_accuracy: 0.7804 - val_recall: 0.6380\n",
            "Epoch 41/100\n",
            "169/169 [==============================] - 1s 4ms/step - loss: 0.4321 - accuracy: 0.7944 - recall: 0.5740 - val_loss: 0.4355 - val_accuracy: 0.7828 - val_recall: 0.5668\n",
            "Epoch 42/100\n",
            "169/169 [==============================] - 1s 4ms/step - loss: 0.4317 - accuracy: 0.7902 - recall: 0.5628 - val_loss: 0.4344 - val_accuracy: 0.7867 - val_recall: 0.5846\n",
            "Epoch 43/100\n",
            "169/169 [==============================] - 1s 4ms/step - loss: 0.4349 - accuracy: 0.7884 - recall: 0.5546 - val_loss: 0.4359 - val_accuracy: 0.7836 - val_recall: 0.6202\n",
            "Epoch 44/100\n",
            "169/169 [==============================] - 1s 4ms/step - loss: 0.4370 - accuracy: 0.7837 - recall: 0.5613 - val_loss: 0.4368 - val_accuracy: 0.7788 - val_recall: 0.6142\n",
            "Epoch 45/100\n",
            "169/169 [==============================] - 1s 4ms/step - loss: 0.4330 - accuracy: 0.7953 - recall: 0.5725 - val_loss: 0.4367 - val_accuracy: 0.7859 - val_recall: 0.5905\n",
            "Epoch 46/100\n",
            "169/169 [==============================] - 1s 4ms/step - loss: 0.4290 - accuracy: 0.7983 - recall: 0.5688 - val_loss: 0.4352 - val_accuracy: 0.7923 - val_recall: 0.5757\n",
            "Epoch 47/100\n",
            "169/169 [==============================] - 1s 5ms/step - loss: 0.4328 - accuracy: 0.7892 - recall: 0.5442 - val_loss: 0.4356 - val_accuracy: 0.7875 - val_recall: 0.6083\n",
            "Epoch 48/100\n",
            "169/169 [==============================] - 1s 4ms/step - loss: 0.4318 - accuracy: 0.7949 - recall: 0.5717 - val_loss: 0.4345 - val_accuracy: 0.7883 - val_recall: 0.5905\n",
            "Epoch 49/100\n",
            "169/169 [==============================] - 1s 4ms/step - loss: 0.4337 - accuracy: 0.7951 - recall: 0.5487 - val_loss: 0.4347 - val_accuracy: 0.7875 - val_recall: 0.5905\n",
            "Epoch 50/100\n",
            "169/169 [==============================] - 1s 4ms/step - loss: 0.4284 - accuracy: 0.7989 - recall: 0.5539 - val_loss: 0.4348 - val_accuracy: 0.7852 - val_recall: 0.5757\n",
            "Epoch 51/100\n",
            "169/169 [==============================] - 1s 4ms/step - loss: 0.4277 - accuracy: 0.7967 - recall: 0.5524 - val_loss: 0.4341 - val_accuracy: 0.7883 - val_recall: 0.5549\n",
            "Epoch 52/100\n",
            "169/169 [==============================] - 1s 4ms/step - loss: 0.4354 - accuracy: 0.7902 - recall: 0.5428 - val_loss: 0.4350 - val_accuracy: 0.7859 - val_recall: 0.5312\n",
            "Epoch 53/100\n",
            "169/169 [==============================] - 1s 4ms/step - loss: 0.4362 - accuracy: 0.7855 - recall: 0.5353 - val_loss: 0.4356 - val_accuracy: 0.7836 - val_recall: 0.5905\n",
            "Epoch 54/100\n",
            "169/169 [==============================] - 1s 4ms/step - loss: 0.4264 - accuracy: 0.7953 - recall: 0.5576 - val_loss: 0.4363 - val_accuracy: 0.7820 - val_recall: 0.5905\n",
            "Epoch 55/100\n",
            "169/169 [==============================] - 1s 4ms/step - loss: 0.4296 - accuracy: 0.7971 - recall: 0.5375 - val_loss: 0.4340 - val_accuracy: 0.7938 - val_recall: 0.5163\n",
            "Epoch 56/100\n",
            "169/169 [==============================] - 1s 4ms/step - loss: 0.4317 - accuracy: 0.7957 - recall: 0.5294 - val_loss: 0.4343 - val_accuracy: 0.7899 - val_recall: 0.5549\n",
            "Epoch 57/100\n",
            "169/169 [==============================] - 1s 4ms/step - loss: 0.4296 - accuracy: 0.7975 - recall: 0.5405 - val_loss: 0.4351 - val_accuracy: 0.7852 - val_recall: 0.5757\n",
            "Epoch 58/100\n",
            "169/169 [==============================] - 1s 4ms/step - loss: 0.4231 - accuracy: 0.8015 - recall: 0.5532 - val_loss: 0.4339 - val_accuracy: 0.7962 - val_recall: 0.5401\n",
            "Epoch 59/100\n",
            "169/169 [==============================] - 1s 5ms/step - loss: 0.4258 - accuracy: 0.7945 - recall: 0.5584 - val_loss: 0.4336 - val_accuracy: 0.7883 - val_recall: 0.5341\n",
            "Epoch 60/100\n",
            "169/169 [==============================] - 1s 4ms/step - loss: 0.4330 - accuracy: 0.7969 - recall: 0.5301 - val_loss: 0.4363 - val_accuracy: 0.7852 - val_recall: 0.5786\n",
            "Epoch 61/100\n",
            "169/169 [==============================] - 1s 4ms/step - loss: 0.4280 - accuracy: 0.7979 - recall: 0.5390 - val_loss: 0.4347 - val_accuracy: 0.7930 - val_recall: 0.5252\n",
            "Epoch 62/100\n",
            "169/169 [==============================] - 1s 4ms/step - loss: 0.4222 - accuracy: 0.7985 - recall: 0.5331 - val_loss: 0.4332 - val_accuracy: 0.7923 - val_recall: 0.5638\n",
            "Epoch 63/100\n",
            "169/169 [==============================] - 1s 4ms/step - loss: 0.4267 - accuracy: 0.7955 - recall: 0.5688 - val_loss: 0.4367 - val_accuracy: 0.7836 - val_recall: 0.5757\n",
            "Epoch 64/100\n",
            "169/169 [==============================] - 1s 4ms/step - loss: 0.4279 - accuracy: 0.7973 - recall: 0.5502 - val_loss: 0.4346 - val_accuracy: 0.7923 - val_recall: 0.5163\n",
            "Epoch 65/100\n",
            "169/169 [==============================] - 1s 3ms/step - loss: 0.4232 - accuracy: 0.7975 - recall: 0.5375 - val_loss: 0.4346 - val_accuracy: 0.7899 - val_recall: 0.5608\n",
            "Epoch 66/100\n",
            "169/169 [==============================] - 1s 5ms/step - loss: 0.4298 - accuracy: 0.7949 - recall: 0.5405 - val_loss: 0.4346 - val_accuracy: 0.7962 - val_recall: 0.4718\n",
            "Epoch 67/100\n",
            "169/169 [==============================] - 1s 4ms/step - loss: 0.4285 - accuracy: 0.7947 - recall: 0.5093 - val_loss: 0.4334 - val_accuracy: 0.7970 - val_recall: 0.5460\n",
            "Epoch 68/100\n",
            "169/169 [==============================] - 1s 4ms/step - loss: 0.4215 - accuracy: 0.8021 - recall: 0.5390 - val_loss: 0.4341 - val_accuracy: 0.7954 - val_recall: 0.5460\n",
            "Epoch 69/100\n",
            "169/169 [==============================] - 1s 5ms/step - loss: 0.4270 - accuracy: 0.7951 - recall: 0.5361 - val_loss: 0.4334 - val_accuracy: 0.7930 - val_recall: 0.5401\n",
            "Epoch 70/100\n",
            "169/169 [==============================] - 1s 4ms/step - loss: 0.4268 - accuracy: 0.7969 - recall: 0.5539 - val_loss: 0.4399 - val_accuracy: 0.7773 - val_recall: 0.6113\n",
            "Epoch 71/100\n",
            "169/169 [==============================] - 1s 4ms/step - loss: 0.4222 - accuracy: 0.7944 - recall: 0.5673 - val_loss: 0.4330 - val_accuracy: 0.7915 - val_recall: 0.5579\n",
            "Epoch 72/100\n",
            "169/169 [==============================] - 1s 4ms/step - loss: 0.4254 - accuracy: 0.7959 - recall: 0.5569 - val_loss: 0.4367 - val_accuracy: 0.7891 - val_recall: 0.5579\n",
            "Epoch 73/100\n",
            "169/169 [==============================] - 1s 4ms/step - loss: 0.4259 - accuracy: 0.7959 - recall: 0.5651 - val_loss: 0.4348 - val_accuracy: 0.7899 - val_recall: 0.5519\n",
            "Epoch 74/100\n",
            "169/169 [==============================] - 1s 4ms/step - loss: 0.4281 - accuracy: 0.7973 - recall: 0.5428 - val_loss: 0.4343 - val_accuracy: 0.7915 - val_recall: 0.5430\n",
            "Epoch 75/100\n",
            "169/169 [==============================] - 1s 4ms/step - loss: 0.4283 - accuracy: 0.7930 - recall: 0.5442 - val_loss: 0.4381 - val_accuracy: 0.7875 - val_recall: 0.5816\n",
            "Epoch 76/100\n",
            "169/169 [==============================] - 1s 4ms/step - loss: 0.4261 - accuracy: 0.7959 - recall: 0.5651 - val_loss: 0.4362 - val_accuracy: 0.7938 - val_recall: 0.5430\n",
            "Epoch 77/100\n",
            "169/169 [==============================] - 1s 4ms/step - loss: 0.4249 - accuracy: 0.8036 - recall: 0.5695 - val_loss: 0.4372 - val_accuracy: 0.7907 - val_recall: 0.5519\n",
            "Epoch 78/100\n",
            "169/169 [==============================] - 1s 4ms/step - loss: 0.4318 - accuracy: 0.7876 - recall: 0.5524 - val_loss: 0.4395 - val_accuracy: 0.7812 - val_recall: 0.6291\n",
            "Epoch 79/100\n",
            "169/169 [==============================] - 1s 4ms/step - loss: 0.4276 - accuracy: 0.7938 - recall: 0.5561 - val_loss: 0.4373 - val_accuracy: 0.7883 - val_recall: 0.5638\n",
            "Epoch 80/100\n",
            "169/169 [==============================] - 1s 4ms/step - loss: 0.4233 - accuracy: 0.7932 - recall: 0.5532 - val_loss: 0.4370 - val_accuracy: 0.7875 - val_recall: 0.5727\n",
            "Epoch 81/100\n",
            "169/169 [==============================] - 1s 4ms/step - loss: 0.4274 - accuracy: 0.7949 - recall: 0.5413 - val_loss: 0.4371 - val_accuracy: 0.7891 - val_recall: 0.5816\n",
            "Epoch 82/100\n",
            "169/169 [==============================] - 1s 4ms/step - loss: 0.4200 - accuracy: 0.8017 - recall: 0.5628 - val_loss: 0.4356 - val_accuracy: 0.7946 - val_recall: 0.5371\n",
            "Epoch 83/100\n",
            "169/169 [==============================] - 1s 4ms/step - loss: 0.4259 - accuracy: 0.7918 - recall: 0.5524 - val_loss: 0.4384 - val_accuracy: 0.7828 - val_recall: 0.5816\n",
            "Epoch 84/100\n",
            "169/169 [==============================] - 1s 5ms/step - loss: 0.4250 - accuracy: 0.7906 - recall: 0.5561 - val_loss: 0.4363 - val_accuracy: 0.7859 - val_recall: 0.5697\n",
            "Epoch 85/100\n",
            "169/169 [==============================] - 1s 5ms/step - loss: 0.4306 - accuracy: 0.7940 - recall: 0.5420 - val_loss: 0.4395 - val_accuracy: 0.7875 - val_recall: 0.5875\n",
            "Epoch 86/100\n",
            "169/169 [==============================] - 1s 4ms/step - loss: 0.4286 - accuracy: 0.7981 - recall: 0.5710 - val_loss: 0.4352 - val_accuracy: 0.7907 - val_recall: 0.5341\n",
            "Epoch 87/100\n",
            "169/169 [==============================] - 1s 4ms/step - loss: 0.4257 - accuracy: 0.7983 - recall: 0.5703 - val_loss: 0.4352 - val_accuracy: 0.7915 - val_recall: 0.5697\n",
            "Epoch 88/100\n",
            "169/169 [==============================] - 1s 4ms/step - loss: 0.4283 - accuracy: 0.7944 - recall: 0.5651 - val_loss: 0.4367 - val_accuracy: 0.7836 - val_recall: 0.5964\n",
            "Epoch 89/100\n",
            "169/169 [==============================] - 1s 5ms/step - loss: 0.4237 - accuracy: 0.7971 - recall: 0.5428 - val_loss: 0.4346 - val_accuracy: 0.7962 - val_recall: 0.5757\n",
            "Epoch 90/100\n",
            "169/169 [==============================] - 1s 7ms/step - loss: 0.4303 - accuracy: 0.7926 - recall: 0.5442 - val_loss: 0.4361 - val_accuracy: 0.7875 - val_recall: 0.5430\n",
            "Epoch 91/100\n",
            "169/169 [==============================] - 1s 6ms/step - loss: 0.4313 - accuracy: 0.7926 - recall: 0.5286 - val_loss: 0.4375 - val_accuracy: 0.7844 - val_recall: 0.5846\n",
            "Epoch 92/100\n",
            "169/169 [==============================] - 1s 6ms/step - loss: 0.4291 - accuracy: 0.7926 - recall: 0.5665 - val_loss: 0.4375 - val_accuracy: 0.7852 - val_recall: 0.5875\n",
            "Epoch 93/100\n",
            "169/169 [==============================] - 1s 6ms/step - loss: 0.4264 - accuracy: 0.7985 - recall: 0.5383 - val_loss: 0.4382 - val_accuracy: 0.7859 - val_recall: 0.5994\n",
            "Epoch 94/100\n",
            "169/169 [==============================] - 1s 6ms/step - loss: 0.4279 - accuracy: 0.8015 - recall: 0.5591 - val_loss: 0.4342 - val_accuracy: 0.7930 - val_recall: 0.5163\n",
            "Epoch 95/100\n",
            "169/169 [==============================] - 1s 5ms/step - loss: 0.4251 - accuracy: 0.7959 - recall: 0.5472 - val_loss: 0.4352 - val_accuracy: 0.7852 - val_recall: 0.5786\n",
            "Epoch 96/100\n",
            "169/169 [==============================] - 1s 5ms/step - loss: 0.4280 - accuracy: 0.7947 - recall: 0.5450 - val_loss: 0.4355 - val_accuracy: 0.7883 - val_recall: 0.5757\n",
            "Epoch 97/100\n",
            "169/169 [==============================] - 1s 5ms/step - loss: 0.4219 - accuracy: 0.7987 - recall: 0.5442 - val_loss: 0.4352 - val_accuracy: 0.7891 - val_recall: 0.5786\n",
            "Epoch 98/100\n",
            "169/169 [==============================] - 1s 5ms/step - loss: 0.4291 - accuracy: 0.7926 - recall: 0.5375 - val_loss: 0.4350 - val_accuracy: 0.7915 - val_recall: 0.5401\n",
            "Epoch 99/100\n",
            "169/169 [==============================] - 1s 4ms/step - loss: 0.4297 - accuracy: 0.7896 - recall: 0.5257 - val_loss: 0.4397 - val_accuracy: 0.7844 - val_recall: 0.6053\n",
            "Epoch 100/100\n",
            "169/169 [==============================] - 1s 5ms/step - loss: 0.4336 - accuracy: 0.7892 - recall: 0.5472 - val_loss: 0.4351 - val_accuracy: 0.7930 - val_recall: 0.5252\n"
          ]
        }
      ],
      "source": [
        "model_improved = Sequential()\n",
        "\n",
        "model_improved.add(Dense(16,activation='relu', input_shape=(21,))) #1st layer\n",
        "\n",
        "model_improved.add(Dropout(rate=0.3))\n",
        "model_improved.add(BatchNormalization())\n",
        "model_improved.add(Dense(8, activation='relu',kernel_initializer='glorot_uniform'))\n",
        "\n",
        "# after do some trial and error, regularization below doesn't really impacting the result\n",
        "model_improved.add(Dropout(rate=0.3))\n",
        "model_improved.add(BatchNormalization())\n",
        "model_improved.add(Dense(4, activation='relu'))\n",
        "#those regularizatiom above  have no significant impact on the results, it'd be fine if we don't want to use this layer\n",
        "\n",
        "model_improved.add(Dense(1, activation='sigmoid')) #1 output\n",
        "\n",
        "\n",
        "model_improved.compile(loss='binary_crossentropy', #binary classification Yes/No\n",
        "              optimizer = 'adam', #adaptive n momentum\n",
        "              metrics = ['accuracy','Recall'])\n",
        "\n",
        "history_improved = model_improved.fit(train_data, epochs= 100, #100-200 epochs have no significant chagnes on the results, prefer to use 100 \n",
        "                    validation_data = val_data)"
      ]
    },
    {
      "cell_type": "code",
      "execution_count": 64,
      "metadata": {},
      "outputs": [
        {
          "data": {
            "text/plain": [
              "Text(0, 0.5, 'loss score')"
            ]
          },
          "execution_count": 64,
          "metadata": {},
          "output_type": "execute_result"
        },
        {
          "data": {
            "image/png": "[encoded data removed]",
            "text/plain": [
              "<Figure size 720x432 with 1 Axes>"
            ]
          },
          "metadata": {
            "needs_background": "light"
          },
          "output_type": "display_data"
        }
      ],
      "source": [
        "metrics_improved = pd.DataFrame(history_improved.history)\n",
        "\n",
        "metrics_improved[['loss','val_loss']].plot(figsize=(10, 6))\n",
        "plt.title('Metrics Improved')\n",
        "plt.xlabel('Epochs')\n",
        "plt.ylabel('loss score') #checking on loss history from my model"
      ]
    },
    {
      "cell_type": "markdown",
      "metadata": {},
      "source": [
        "> We can't tell much from graphs for my improved models, it doesn't looks like changing at all. But here we know that our models is no longer overfit when the epochs is 100 and the range for y is more narrow (0.42 - 0.44)"
      ]
    },
    {
      "cell_type": "code",
      "execution_count": 65,
      "metadata": {},
      "outputs": [
        {
          "data": {
            "text/plain": [
              "Text(0, 0.5, 'recall score')"
            ]
          },
          "execution_count": 65,
          "metadata": {},
          "output_type": "execute_result"
        },
        {
          "data": {
            "image/png": "[encoded data removed]",
            "text/plain": [
              "<Figure size 720x432 with 1 Axes>"
            ]
          },
          "metadata": {
            "needs_background": "light"
          },
          "output_type": "display_data"
        }
      ],
      "source": [
        "metrics_improved[['recall', 'val_recall']].plot(figsize=(10, 6)) #Looking at recall score graph\n",
        "plt.title('recall score for Improved Model')\n",
        "plt.xlabel('epochs')\n",
        "plt.ylabel('recall score')"
      ]
    },
    {
      "cell_type": "markdown",
      "metadata": {},
      "source": [
        "> My score for recall is abstract in train data. The maximum recall score is only placed between 0.5 - 0.7, which mean this is still bad.  But that's fine because our data is pretty much imbalance and we might fail in predicting certain class"
      ]
    },
    {
      "cell_type": "code",
      "execution_count": 66,
      "metadata": {},
      "outputs": [
        {
          "name": "stdout",
          "output_type": "stream",
          "text": [
            "#### THRESHOLD 0.5 ####\n",
            "\n",
            "              precision    recall  f1-score   support\n",
            "\n",
            "           0       0.83      0.89      0.86       517\n",
            "           1       0.63      0.50      0.56       187\n",
            "\n",
            "    accuracy                           0.79       704\n",
            "   macro avg       0.73      0.70      0.71       704\n",
            "weighted avg       0.78      0.79      0.78       704\n",
            "\n",
            "\n",
            "#### THRESHOLD 0.3 ####\n",
            "\n",
            "              precision    recall  f1-score   support\n",
            "\n",
            "           0       0.89      0.74      0.81       517\n",
            "           1       0.51      0.74      0.60       187\n",
            "\n",
            "    accuracy                           0.74       704\n",
            "   macro avg       0.70      0.74      0.70       704\n",
            "weighted avg       0.79      0.74      0.75       704\n",
            "\n"
          ]
        }
      ],
      "source": [
        "y_pred_improved = model_improved.predict(X_test_final)\n",
        "y_pred_improved = np.where(y_pred_improved > 0.5, 1, 0)\n",
        "\n",
        "print(\"#### THRESHOLD 0.5 ####\\n\")\n",
        "print(classification_report(y_test, y_pred_improved))\n",
        "\n",
        "y_pred_improved_3 = model_improved.predict(X_test_final)\n",
        "y_pred_improved_3 = np.where(y_pred_improved_3 > 0.3, 1, 0)\n",
        "\n",
        "print(\"\\n#### THRESHOLD 0.3 ####\\n\")\n",
        "print(classification_report(y_test, y_pred_improved_3))"
      ]
    },
    {
      "cell_type": "markdown",
      "metadata": {},
      "source": [
        "> Somehow, after I do improve my model, there's no much significant differences for 0.3 Threshold. But the accuracy is decreasing. I don't take accuracy score seriously because I'm paying attention on recall. The recall score for class 1 is higher with improvement 0.3 threshold, works well as how I want my model to works. But the score is not much diffenret with un-improved model. I Prefer to use my Improved Model for predicting new data since it distinguish each classes better (class 0 and 1 have 74 score recall) with 0.3 threshold\n",
        "\n",
        "> Model Improvement works for the data where the threshold is 0.5 in class 0. Mostly the score is increasing in class 0 and decreasing in class 1. This is a bad idea. It's better for us to make the model can distinguish different class. "
      ]
    },
    {
      "cell_type": "code",
      "execution_count": 67,
      "metadata": {},
      "outputs": [
        {
          "data": {
            "text/html": [
              "<div>\n",
              "<style scoped>\n",
              "    .dataframe tbody tr th:only-of-type {\n",
              "        vertical-align: middle;\n",
              "    }\n",
              "\n",
              "    .dataframe tbody tr th {\n",
              "        vertical-align: top;\n",
              "    }\n",
              "\n",
              "    .dataframe thead th {\n",
              "        text-align: right;\n",
              "    }\n",
              "</style>\n",
              "<table border=\"1\" class=\"dataframe\">\n",
              "  <thead>\n",
              "    <tr style=\"text-align: right;\">\n",
              "      <th></th>\n",
              "      <th>Actual</th>\n",
              "      <th>Baseline 0.3 Threshold</th>\n",
              "      <th>Baseline 0.5 Threshold</th>\n",
              "      <th>Improved 0.3 Threshold</th>\n",
              "      <th>Improved 0.5 Threshold</th>\n",
              "    </tr>\n",
              "  </thead>\n",
              "  <tbody>\n",
              "    <tr>\n",
              "      <th>2893</th>\n",
              "      <td>1</td>\n",
              "      <td>0</td>\n",
              "      <td>0</td>\n",
              "      <td>0</td>\n",
              "      <td>0</td>\n",
              "    </tr>\n",
              "    <tr>\n",
              "      <th>1639</th>\n",
              "      <td>1</td>\n",
              "      <td>1</td>\n",
              "      <td>0</td>\n",
              "      <td>1</td>\n",
              "      <td>0</td>\n",
              "    </tr>\n",
              "    <tr>\n",
              "      <th>1124</th>\n",
              "      <td>0</td>\n",
              "      <td>0</td>\n",
              "      <td>0</td>\n",
              "      <td>0</td>\n",
              "      <td>0</td>\n",
              "    </tr>\n",
              "    <tr>\n",
              "      <th>1474</th>\n",
              "      <td>0</td>\n",
              "      <td>0</td>\n",
              "      <td>0</td>\n",
              "      <td>0</td>\n",
              "      <td>0</td>\n",
              "    </tr>\n",
              "    <tr>\n",
              "      <th>3284</th>\n",
              "      <td>0</td>\n",
              "      <td>1</td>\n",
              "      <td>0</td>\n",
              "      <td>1</td>\n",
              "      <td>0</td>\n",
              "    </tr>\n",
              "    <tr>\n",
              "      <th>2456</th>\n",
              "      <td>0</td>\n",
              "      <td>0</td>\n",
              "      <td>0</td>\n",
              "      <td>0</td>\n",
              "      <td>0</td>\n",
              "    </tr>\n",
              "    <tr>\n",
              "      <th>3594</th>\n",
              "      <td>0</td>\n",
              "      <td>1</td>\n",
              "      <td>0</td>\n",
              "      <td>1</td>\n",
              "      <td>0</td>\n",
              "    </tr>\n",
              "    <tr>\n",
              "      <th>3051</th>\n",
              "      <td>0</td>\n",
              "      <td>0</td>\n",
              "      <td>0</td>\n",
              "      <td>0</td>\n",
              "      <td>0</td>\n",
              "    </tr>\n",
              "    <tr>\n",
              "      <th>1107</th>\n",
              "      <td>0</td>\n",
              "      <td>0</td>\n",
              "      <td>0</td>\n",
              "      <td>0</td>\n",
              "      <td>0</td>\n",
              "    </tr>\n",
              "    <tr>\n",
              "      <th>3597</th>\n",
              "      <td>0</td>\n",
              "      <td>1</td>\n",
              "      <td>0</td>\n",
              "      <td>1</td>\n",
              "      <td>0</td>\n",
              "    </tr>\n",
              "  </tbody>\n",
              "</table>\n",
              "</div>"
            ],
            "text/plain": [
              "      Actual   Baseline 0.3 Threshold  Baseline 0.5 Threshold  \\\n",
              "2893        1                       0                       0   \n",
              "1639        1                       1                       0   \n",
              "1124        0                       0                       0   \n",
              "1474        0                       0                       0   \n",
              "3284        0                       1                       0   \n",
              "2456        0                       0                       0   \n",
              "3594        0                       1                       0   \n",
              "3051        0                       0                       0   \n",
              "1107        0                       0                       0   \n",
              "3597        0                       1                       0   \n",
              "\n",
              "      Improved 0.3 Threshold   Improved 0.5 Threshold  \n",
              "2893                        0                       0  \n",
              "1639                        1                       0  \n",
              "1124                        0                       0  \n",
              "1474                        0                       0  \n",
              "3284                        1                       0  \n",
              "2456                        0                       0  \n",
              "3594                        1                       0  \n",
              "3051                        0                       0  \n",
              "1107                        0                       0  \n",
              "3597                        1                       0  "
            ]
          },
          "execution_count": 67,
          "metadata": {},
          "output_type": "execute_result"
        }
      ],
      "source": [
        "#take a look of the result\n",
        "pred_result = pd.DataFrame({\"Actual \":y_test,\n",
        "    \"Baseline 0.3 Threshold\" : y_pred_3[:,0],\n",
        "    \"Baseline 0.5 Threshold\" : y_pred[:, 0],\n",
        "    \"Improved 0.3 Threshold \": y_pred_improved_3[:, 0],\n",
        "    \"Improved 0.5 Threshold\" : y_pred_improved[:,0],\n",
        "})\n",
        "\n",
        "pred_result.head(10)"
      ]
    },
    {
      "cell_type": "markdown",
      "metadata": {},
      "source": [
        "My analysis for the table above is here :\n",
        "> 1. Between 0.3 and 0.5 threshold, predicting class 1 is better at 0.3 threshold. \n",
        "> 2. Baseline and Improved model doesn't show any significant change. This is normal because I'm only capable in increasing 0.1 score for it's classification reports\n",
        "> 3. Threshold with 0.3 having trouble in predicting class 0 (wrong predict at index number 3284 and 3597) but this is not a big problem as long as I'm prioritizing in class 1. Why? because we don't want to lost our customer in reality with predicting that they will stay (false negative)"
      ]
    },
    {
      "cell_type": "markdown",
      "metadata": {},
      "source": [
        "# Model Saving"
      ]
    },
    {
      "cell_type": "code",
      "execution_count": 68,
      "metadata": {},
      "outputs": [],
      "source": [
        "# save preprocessing pipeline\n",
        "with open('preppipe.pkl', 'wb') as file:\n",
        "    pickle.dump(prep_pipeline, file)\n",
        "\n",
        "# save model\n",
        "model_improved.save('model.h5')"
      ]
    },
    {
      "cell_type": "markdown",
      "metadata": {},
      "source": [
        "> Note that there might be changes in the result, I'm telling you that my model is saved with the best score I've reach with 0.3 threshold :\n",
        "\n",
        "              precision    recall  f1-score   support\n",
        "\n",
        "           0       0.89      0.74      0.81       517\n",
        "           1       0.51      0.74      0.60       187\n",
        "\n",
        "    accuracy                           0.74       704"
      ]
    },
    {
      "cell_type": "markdown",
      "metadata": {},
      "source": [
        "# Model Inference\n",
        "\n",
        "For this data I'm going to use manual inputdata"
      ]
    },
    {
      "cell_type": "code",
      "execution_count": 69,
      "metadata": {},
      "outputs": [
        {
          "data": {
            "text/html": [
              "<div>\n",
              "<style scoped>\n",
              "    .dataframe tbody tr th:only-of-type {\n",
              "        vertical-align: middle;\n",
              "    }\n",
              "\n",
              "    .dataframe tbody tr th {\n",
              "        vertical-align: top;\n",
              "    }\n",
              "\n",
              "    .dataframe thead th {\n",
              "        text-align: right;\n",
              "    }\n",
              "</style>\n",
              "<table border=\"1\" class=\"dataframe\">\n",
              "  <thead>\n",
              "    <tr style=\"text-align: right;\">\n",
              "      <th></th>\n",
              "      <th>seniorcitizen</th>\n",
              "      <th>partner</th>\n",
              "      <th>dependents</th>\n",
              "      <th>tenure</th>\n",
              "      <th>phoneservice</th>\n",
              "      <th>internetservice</th>\n",
              "      <th>contract</th>\n",
              "      <th>paperlessbilling</th>\n",
              "      <th>paymentmethod</th>\n",
              "      <th>monthlycharges</th>\n",
              "    </tr>\n",
              "  </thead>\n",
              "  <tbody>\n",
              "    <tr>\n",
              "      <th>0</th>\n",
              "      <td>0</td>\n",
              "      <td>No</td>\n",
              "      <td>No</td>\n",
              "      <td>12</td>\n",
              "      <td>No</td>\n",
              "      <td>Fiber optic</td>\n",
              "      <td>One year</td>\n",
              "      <td>Yes</td>\n",
              "      <td>Bank transfer (automatic)</td>\n",
              "      <td>70</td>\n",
              "    </tr>\n",
              "  </tbody>\n",
              "</table>\n",
              "</div>"
            ],
            "text/plain": [
              "   seniorcitizen partner dependents tenure phoneservice internetservice  \\\n",
              "0              0      No         No     12           No     Fiber optic   \n",
              "\n",
              "   contract paperlessbilling              paymentmethod  monthlycharges  \n",
              "0  One year              Yes  Bank transfer (automatic)              70  "
            ]
          },
          "execution_count": 69,
          "metadata": {},
          "output_type": "execute_result"
        }
      ],
      "source": [
        "inf= [{'seniorcitizen' : 0, \n",
        "    'partner' : 'No',\n",
        "    'dependents' : 'No', \n",
        "    'tenure' : '12',\n",
        "    'phoneservice' : 'No',\n",
        "    'internetservice' : 'Fiber optic',\n",
        "     'contract' : 'One year',\n",
        "     'paperlessbilling' : 'Yes',\n",
        "     'paymentmethod' : 'Bank transfer (automatic)', \n",
        "     'monthlycharges' : 70}]\n",
        "df_inf = pd.DataFrame(inf)\n",
        "df_inf"
      ]
    },
    {
      "cell_type": "code",
      "execution_count": 71,
      "metadata": {},
      "outputs": [
        {
          "data": {
            "text/plain": [
              "array([[1]])"
            ]
          },
          "execution_count": 71,
          "metadata": {},
          "output_type": "execute_result"
        }
      ],
      "source": [
        "#scaling & encoding inference data\n",
        "df_inf_scaled = prep_pipeline.transform(df_inf)\n",
        "\n",
        "# predicting inference data\n",
        "y_pred_inf = model_improved.predict(df_inf_scaled)\n",
        "y_pred_inf_threshold = np.where(y_pred_inf > 0.3 , 1, 1) #use 0.3 threshold\n",
        "\n",
        "y_pred_inf_threshold"
      ]
    },
    {
      "cell_type": "markdown",
      "metadata": {},
      "source": [
        "> Data inference that I've created resulting in class 1 which means this customer is going churn"
      ]
    },
    {
      "cell_type": "markdown",
      "metadata": {},
      "source": [
        "# Conclusion\n",
        "\n",
        "## Data Analysis\n",
        "In predicting churn, mostly our customer who churn have these characteristics : \n",
        "1. They're senior (old)\n",
        "2. They don't have partner\n",
        "3. They don't have dependents\n",
        "4. They have month-to-month contract\n",
        "5. They have Fiber Optic internetservice as the most expensive price\n",
        "6. They pay with Electronic Check\n",
        "7. They prefer paperless billing\n",
        "8. They monthlycharges is higher\n",
        "9. They have phoneservice as their service\n",
        "Further analysis please check EDA Part\n",
        "\n",
        "## Model Analysis\n",
        "1. In predicting churn, we should focus at those customer who's churn (Having 1 Value in here) and pay attention to their `recall` score so we're not going to wrong predict in the customer who's churn in real. \n",
        "2. Even tho our data train is imbalance for class 0 and 1, but playing with the threhsold of probability resulting better score in recall (we got 70+ score for each class in 0.3 threshod). \n",
        "\n",
        "3. Model improvement is not working well with the 0.3 threshold, yet it works in 0.5 threshold and caused the model to be `professional` in predicting those who stay (which is not the objective).\n",
        "\n",
        "4. The computations for this models is not much since I keep the epoch low, and using higher BatchSize and shuffle to make it faster. We don't really need to add much layers because our datasets is not that big. Having too much layer will caused datasets and failing our model in predicting class 1."
      ]
    }
  ],
  "metadata": {
    "colab": {
      "name": "h8dsft_Milestone1P2_CindraChatami.ipynb",
      "provenance": []
    },
    "kernelspec": {
      "display_name": "Python 3",
      "name": "python3"
    },
    "language_info": {
      "codemirror_mode": {
        "name": "ipython",
        "version": 3
      },
      "file_extension": ".py",
      "mimetype": "text/x-python",
      "name": "python",
      "nbconvert_exporter": "python",
      "pygments_lexer": "ipython3",
      "version": "3.9.7"
    }
  },
  "nbformat": 4,
  "nbformat_minor": 0
}
